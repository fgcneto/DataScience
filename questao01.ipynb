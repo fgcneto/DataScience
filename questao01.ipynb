{
 "cells": [
  {
   "cell_type": "code",
   "execution_count": 7,
   "id": "german-stomach",
   "metadata": {},
   "outputs": [],
   "source": [
    "#!pip3 install bs4\n",
    "#!pip3 install requests\n",
    "#!pip3 install newspaper3k\n",
    "#!pip3 install -U selenium\n",
    "#!pip3 install webdriver-manager\n",
    "#!pip3 install pymongo[srv]\n",
    "#!pip3 install pymongo[tls]\n",
    "#!pip3 install lxml\n",
    "import pymongo\n",
    "import requests\n",
    "from bs4 import BeautifulSoup as soup\n",
    "from selenium import webdriver\n",
    "from pymongo import MongoClient\n",
    "\n",
    "localConn = MongoClient('mongodb://127.0.0.1:27017')\n",
    "\n",
    "db = localConn.concursos\n",
    "tb = db.megasena\n",
    "\n",
    "\n",
    "def getConcurso(numero_concurso):\n",
    "    url = 'https://www.loteriaseresultados.com.br/index.php/megasena/concurso/'+ numero_concurso\n",
    "    options = webdriver.FirefoxOptions()\n",
    "    options.headless = True    \n",
    "    driver = webdriver.Firefox(executable_path = r'/usr/local/bin/geckodriver', options = options)\n",
    "    driver.get(url)\n",
    "        \n",
    "    try:\n",
    "        body = driver.find_element_by_tag_name('body')\n",
    "        html = body.get_attribute('innerHTML')\n",
    "        soupPage = soup(html, 'lxml') # não conseguir utilizar a lib \"html5lib\" como solução usei a \"lxml\"\n",
    "        spanList = soupPage.findAll(\"span\", class_='white--text font-weight-bold')\n",
    "        \n",
    "        textCenter = soupPage.findAll('td', class_='text-center')\n",
    "        textRight = soupPage.findAll('td', class_='text-right')\n",
    "        \n",
    "        numeros = []\n",
    "        for n in range(len(spanList)):\n",
    "            numeros.append(spanList[n].text)\n",
    "        \n",
    "  \n",
    "        tb.insert_one({numero_concurso: {\n",
    "                'Sena': numeros,\n",
    "                textCenter[0].text: {'ganhadores': str(textCenter[1].text),'valor': str(textRight[0].text)},\n",
    "                textCenter[2].text: {'ganhadores': str(textCenter[3].text),'valor': str(textRight[1].text)},\n",
    "                textCenter[4].text: {'ganhadores': str(textCenter[5].text),'valor': str(textRight[2].text)}}\n",
    "            })\n",
    "    \n",
    "    except Exception as Error:\n",
    "        print(Error)\n",
    "        print('nao encontrado')\n",
    "\n",
    "\n",
    "    print('Terminou')\n",
    "    driver.close()\n"
   ]
  },
  {
   "cell_type": "code",
   "execution_count": 8,
   "id": "equivalent-patio",
   "metadata": {},
   "outputs": [
    {
     "name": "stdout",
     "output_type": "stream",
     "text": [
      "list index out of range\n",
      "nao encontrado\n",
      "Terminou\n"
     ]
    }
   ],
   "source": [
    "getConcurso('2038')"
   ]
  },
  {
   "cell_type": "code",
   "execution_count": null,
   "id": "eligible-jacksonville",
   "metadata": {},
   "outputs": [],
   "source": []
  }
 ],
 "metadata": {
  "kernelspec": {
   "display_name": "Python 3",
   "language": "python",
   "name": "python3"
  },
  "language_info": {
   "codemirror_mode": {
    "name": "ipython",
    "version": 3
   },
   "file_extension": ".py",
   "mimetype": "text/x-python",
   "name": "python",
   "nbconvert_exporter": "python",
   "pygments_lexer": "ipython3",
   "version": "3.8.5"
  }
 },
 "nbformat": 4,
 "nbformat_minor": 5
}
