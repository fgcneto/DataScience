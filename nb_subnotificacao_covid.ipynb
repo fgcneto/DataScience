{
  "nbformat": 4,
  "nbformat_minor": 0,
  "metadata": {
    "colab": {
      "name": "dc_trab_03.ipynb",
      "provenance": [],
      "collapsed_sections": [
        "r9rnWtyei6S8"
      ],
      "toc_visible": true
    },
    "kernelspec": {
      "display_name": "Python 3",
      "name": "python3"
    },
    "language_info": {
      "name": "python"
    }
  },
  "cells": [
    {
      "cell_type": "markdown",
      "metadata": {
        "id": "QTzzS64YTOwH"
      },
      "source": [
        "## **Fundamentos e Técnicas em Ciências de Dados**\n",
        "\n",
        "#### Motivação: \n",
        " OBS.: Estudo realizado para fins didáticos, projeto de conclusão da disciplina \"Fundamentos e  Técnicas em Ciências de Dados - UFRN/EAJ\"\n",
        " \n",
        "Os sistemas de notificação de óbitos também passaram a ser sobrecarregados, principalmente para registrar os óbitos por Síndrome Respiratória Aguda Grave (SRAG), que é reconhecida como a principal síndrome clínica relacionada à covid-19.\n",
        "\n",
        "A partir de meados de março de 2020, passaram a ser divulgados também os óbitos oriundos da covid-19, os quais, devido à sobreposição de critérios e ao fato de nem sempre os infectados apresentarem toda a sintomatologia para definição de casos suspeitos, eram enquadrados como SG (Síndrome Gripal) ou SRAG. Ou seja: enquanto nos anos anteriores apenas havia a notificação por SRAG, em 2020 eram apresentados para cada data de ocorrência os óbitos totais por SRAG e os que, entre eles, tinham como causa principal a covid-19.\n",
        "\n",
        "Para afirmar que esse óbito foi por covid-19, era preciso que houvesse sido realizado o teste de identificação e este ter dado positivo.\n",
        "\n",
        "\n",
        "A notificação de óbitos por SRAG é feita pelas vigilâncias epidemiológicas de cada município no Sivep-Gripe (Sistema de Vigilância Epidemiológica da Gripe), disponível na plataforma [OpenDataSUS](https://opendatasus.saude.gov.br/dataset) do Ministério da Saúde.\n",
        "\n",
        "Este estudo tem como objetivo identificar a sub-notificação da covid-19.",
        "\n",
        "\n",
        " **Professor**: Josenalde Barbosa UFRN/EAJ\n",
        "\n",
        " - Francisco Gomes Cordeiro Neto\n",
        "\n",
        "\n",
        "\n",
        " \n"
      ]
    },
    {
      "cell_type": "markdown",
      "metadata": {
        "id": "uQwZFmBcagcZ"
      },
      "source": [
        "### **Bibliotecas Básicas**"
      ]
    },
    {
      "cell_type": "code",
      "metadata": {
        "id": "E0LPIXgAYr9E"
      },
      "source": [
        "import numpy as np\n",
        "import pandas as pd\n",
        "import matplotlib.pyplot as plt\n",
        "import seaborn as sb\n",
        "%matplotlib inline\n",
        "plt.style.use('seaborn-whitegrid')\n",
        "from pandas.plotting import andrews_curves"
      ],
      "execution_count": null,
      "outputs": []
    },
    {
      "cell_type": "markdown",
      "metadata": {
        "id": "DRoD6i3CaoYI"
      },
      "source": [
        "### **Pré - Processamento**"
      ]
    },
    {
      "cell_type": "markdown",
      "metadata": {
        "id": "MQ6osCvPuOIM"
      },
      "source": [
        "Carremento do google drive"
      ]
    },
    {
      "cell_type": "code",
      "metadata": {
        "colab": {
          "base_uri": "https://localhost:8080/"
        },
        "id": "yIx1u6LGY9q9",
        "outputId": "be7c4117-4880-4741-9ed0-48ec9818550d"
      },
      "source": [
        "from google.colab import drive\n",
        "drive.mount('/content/drive')"
      ],
      "execution_count": null,
      "outputs": [
        {
          "output_type": "stream",
          "text": [
            "Mounted at /content/drive\n"
          ],
          "name": "stdout"
        }
      ]
    },
    {
      "cell_type": "markdown",
      "metadata": {
        "id": "_MQiR51IjrhO"
      },
      "source": [
        "### OpenDataSUS\n",
        "SRAG 2019 - Banco de Dados de Síndrome Respiratória Aguda Grave\n",
        "Vigilância de Síndrome Respiratória Aguda Grave (SRAG)"
      ]
    },
    {
      "cell_type": "code",
      "metadata": {
        "id": "rsZDu0ktk3Js"
      },
      "source": [
        "pd_n_sarg_2019 = pd.read_csv('/content/drive/MyDrive/TADS - UFRN/2020.2/data_science/trab03/dataset/sarg_2019.csv',low_memory=False, encoding='ISO-8859-1', delimiter=';', error_bad_lines=False)"
      ],
      "execution_count": null,
      "outputs": []
    },
    {
      "cell_type": "code",
      "metadata": {
        "colab": {
          "base_uri": "https://localhost:8080/",
          "height": 412
        },
        "id": "9gpRB2SIloob",
        "outputId": "d90647f2-4994-48dc-e5d5-d7915139695c"
      },
      "source": [
        "pd_n_sarg_2019.sample(3)\n"
      ],
      "execution_count": null,
      "outputs": [
        {
          "output_type": "execute_result",
          "data": {
            "text/html": [
              "<div>\n",
              "<style scoped>\n",
              "    .dataframe tbody tr th:only-of-type {\n",
              "        vertical-align: middle;\n",
              "    }\n",
              "\n",
              "    .dataframe tbody tr th {\n",
              "        vertical-align: top;\n",
              "    }\n",
              "\n",
              "    .dataframe thead th {\n",
              "        text-align: right;\n",
              "    }\n",
              "</style>\n",
              "<table border=\"1\" class=\"dataframe\">\n",
              "  <thead>\n",
              "    <tr style=\"text-align: right;\">\n",
              "      <th></th>\n",
              "      <th>DT_NOTIFIC</th>\n",
              "      <th>SEM_NOT</th>\n",
              "      <th>DT_SIN_PRI</th>\n",
              "      <th>SEM_PRI</th>\n",
              "      <th>SG_UF_NOT</th>\n",
              "      <th>ID_REGIONA</th>\n",
              "      <th>CO_REGIONA</th>\n",
              "      <th>ID_MUNICIP</th>\n",
              "      <th>CO_MUN_NOT</th>\n",
              "      <th>ID_UNIDADE</th>\n",
              "      <th>CO_UNI_NOT</th>\n",
              "      <th>CS_SEXO</th>\n",
              "      <th>DT_NASC</th>\n",
              "      <th>NU_IDADE_N</th>\n",
              "      <th>TP_IDADE</th>\n",
              "      <th>COD_IDADE</th>\n",
              "      <th>CS_GESTANT</th>\n",
              "      <th>CS_RACA</th>\n",
              "      <th>CS_ETINIA</th>\n",
              "      <th>CS_ESCOL_N</th>\n",
              "      <th>ID_PAIS</th>\n",
              "      <th>CO_PAIS</th>\n",
              "      <th>SG_UF</th>\n",
              "      <th>CO_RG_RESI</th>\n",
              "      <th>ID_MN_RESI</th>\n",
              "      <th>CO_MUN_RES</th>\n",
              "      <th>CS_ZONA</th>\n",
              "      <th>SURTO_SG</th>\n",
              "      <th>NOSOCOMIAL</th>\n",
              "      <th>AVE_SUINO</th>\n",
              "      <th>FEBRE</th>\n",
              "      <th>TOSSE</th>\n",
              "      <th>GARGANTA</th>\n",
              "      <th>DISPNEIA</th>\n",
              "      <th>DESC_RESP</th>\n",
              "      <th>SATURACAO</th>\n",
              "      <th>DIARREIA</th>\n",
              "      <th>VOMITO</th>\n",
              "      <th>OUTRO_SIN</th>\n",
              "      <th>OUTRO_DES</th>\n",
              "      <th>...</th>\n",
              "      <th>CO_LAB_IF</th>\n",
              "      <th>PCR_RESUL</th>\n",
              "      <th>DT_PCR</th>\n",
              "      <th>POS_PCRFLU</th>\n",
              "      <th>TP_FLU_PCR</th>\n",
              "      <th>PCR_FLUASU</th>\n",
              "      <th>FLUASU_OUT</th>\n",
              "      <th>PCR_FLUBLI</th>\n",
              "      <th>FLUBLI_OUT</th>\n",
              "      <th>POS_PCROUT</th>\n",
              "      <th>PCR_VSR</th>\n",
              "      <th>PCR_PARA1</th>\n",
              "      <th>PCR_PARA2</th>\n",
              "      <th>PCR_PARA3</th>\n",
              "      <th>PCR_PARA4</th>\n",
              "      <th>PCR_ADENO</th>\n",
              "      <th>PCR_METAP</th>\n",
              "      <th>PCR_BOCA</th>\n",
              "      <th>PCR_RINO</th>\n",
              "      <th>PCR_OUTRO</th>\n",
              "      <th>DS_PCR_OUT</th>\n",
              "      <th>LAB_PCR</th>\n",
              "      <th>CO_LAB_PCR</th>\n",
              "      <th>CLASSI_FIN</th>\n",
              "      <th>CLASSI_OUT</th>\n",
              "      <th>CRITERIO</th>\n",
              "      <th>EVOLUCAO</th>\n",
              "      <th>DT_EVOLUCA</th>\n",
              "      <th>DT_ENCERRA</th>\n",
              "      <th>OBSERVA</th>\n",
              "      <th>DT_DIGITA</th>\n",
              "      <th>HISTO_VGM</th>\n",
              "      <th>PAIS_VGM</th>\n",
              "      <th>CO_PS_VGM</th>\n",
              "      <th>LO_PS_VGM</th>\n",
              "      <th>DT_VGM</th>\n",
              "      <th>DT_RT_VGM</th>\n",
              "      <th>PCR_SARS2</th>\n",
              "      <th>PAC_COCBO</th>\n",
              "      <th>PAC_DSCBO</th>\n",
              "    </tr>\n",
              "  </thead>\n",
              "  <tbody>\n",
              "    <tr>\n",
              "      <th>36670</th>\n",
              "      <td>02/08/2019</td>\n",
              "      <td>31</td>\n",
              "      <td>29/07/2019</td>\n",
              "      <td>31</td>\n",
              "      <td>SP</td>\n",
              "      <td>GVE I CAPITAL</td>\n",
              "      <td>1331.0</td>\n",
              "      <td>SAO PAULO</td>\n",
              "      <td>355030</td>\n",
              "      <td>HOSPITAL SAMARITANO</td>\n",
              "      <td>2080818</td>\n",
              "      <td>M</td>\n",
              "      <td>02/07/1954</td>\n",
              "      <td>65</td>\n",
              "      <td>3</td>\n",
              "      <td>3065</td>\n",
              "      <td>6</td>\n",
              "      <td>9.0</td>\n",
              "      <td>NaN</td>\n",
              "      <td>9.0</td>\n",
              "      <td>BRASIL</td>\n",
              "      <td>1.0</td>\n",
              "      <td>SP</td>\n",
              "      <td>1331.0</td>\n",
              "      <td>SAO PAULO</td>\n",
              "      <td>355030.0</td>\n",
              "      <td>1.0</td>\n",
              "      <td>2.0</td>\n",
              "      <td>2.0</td>\n",
              "      <td>2.0</td>\n",
              "      <td>1.0</td>\n",
              "      <td>1.0</td>\n",
              "      <td>2.0</td>\n",
              "      <td>2.0</td>\n",
              "      <td>NaN</td>\n",
              "      <td>NaN</td>\n",
              "      <td>2.0</td>\n",
              "      <td>2.0</td>\n",
              "      <td>1.0</td>\n",
              "      <td>CEFALEIA EM PESO FRONTAL</td>\n",
              "      <td>...</td>\n",
              "      <td>NaN</td>\n",
              "      <td>4.0</td>\n",
              "      <td>NaN</td>\n",
              "      <td>NaN</td>\n",
              "      <td>NaN</td>\n",
              "      <td>NaN</td>\n",
              "      <td>NaN</td>\n",
              "      <td>NaN</td>\n",
              "      <td>NaN</td>\n",
              "      <td>NaN</td>\n",
              "      <td>NaN</td>\n",
              "      <td>NaN</td>\n",
              "      <td>NaN</td>\n",
              "      <td>NaN</td>\n",
              "      <td>NaN</td>\n",
              "      <td>NaN</td>\n",
              "      <td>NaN</td>\n",
              "      <td>NaN</td>\n",
              "      <td>NaN</td>\n",
              "      <td>NaN</td>\n",
              "      <td>NaN</td>\n",
              "      <td>NaN</td>\n",
              "      <td>NaN</td>\n",
              "      <td>4.0</td>\n",
              "      <td>NaN</td>\n",
              "      <td>1.0</td>\n",
              "      <td>9.0</td>\n",
              "      <td>NaN</td>\n",
              "      <td>NaN</td>\n",
              "      <td>NaN</td>\n",
              "      <td>28/08/2019</td>\n",
              "      <td>0</td>\n",
              "      <td>NaN</td>\n",
              "      <td>NaN</td>\n",
              "      <td>NaN</td>\n",
              "      <td>NaN</td>\n",
              "      <td>NaN</td>\n",
              "      <td>NaN</td>\n",
              "      <td>NaN</td>\n",
              "      <td>NaN</td>\n",
              "    </tr>\n",
              "    <tr>\n",
              "      <th>10040</th>\n",
              "      <td>23/04/2019</td>\n",
              "      <td>17</td>\n",
              "      <td>21/04/2019</td>\n",
              "      <td>17</td>\n",
              "      <td>PE</td>\n",
              "      <td>1</td>\n",
              "      <td>1497.0</td>\n",
              "      <td>RECIFE</td>\n",
              "      <td>261160</td>\n",
              "      <td>IMIP</td>\n",
              "      <td>434</td>\n",
              "      <td>M</td>\n",
              "      <td>24/01/2019</td>\n",
              "      <td>2</td>\n",
              "      <td>2</td>\n",
              "      <td>2002</td>\n",
              "      <td>6</td>\n",
              "      <td>4.0</td>\n",
              "      <td>NaN</td>\n",
              "      <td>5.0</td>\n",
              "      <td>BRASIL</td>\n",
              "      <td>1.0</td>\n",
              "      <td>PE</td>\n",
              "      <td>1497.0</td>\n",
              "      <td>RECIFE</td>\n",
              "      <td>261160.0</td>\n",
              "      <td>1.0</td>\n",
              "      <td>2.0</td>\n",
              "      <td>2.0</td>\n",
              "      <td>2.0</td>\n",
              "      <td>1.0</td>\n",
              "      <td>1.0</td>\n",
              "      <td>2.0</td>\n",
              "      <td>1.0</td>\n",
              "      <td>1.0</td>\n",
              "      <td>1.0</td>\n",
              "      <td>2.0</td>\n",
              "      <td>2.0</td>\n",
              "      <td>2.0</td>\n",
              "      <td>NaN</td>\n",
              "      <td>...</td>\n",
              "      <td>2712075.0</td>\n",
              "      <td>2.0</td>\n",
              "      <td>24/04/2019</td>\n",
              "      <td>NaN</td>\n",
              "      <td>NaN</td>\n",
              "      <td>NaN</td>\n",
              "      <td>NaN</td>\n",
              "      <td>NaN</td>\n",
              "      <td>NaN</td>\n",
              "      <td>NaN</td>\n",
              "      <td>NaN</td>\n",
              "      <td>NaN</td>\n",
              "      <td>NaN</td>\n",
              "      <td>NaN</td>\n",
              "      <td>NaN</td>\n",
              "      <td>NaN</td>\n",
              "      <td>NaN</td>\n",
              "      <td>NaN</td>\n",
              "      <td>NaN</td>\n",
              "      <td>NaN</td>\n",
              "      <td>NaN</td>\n",
              "      <td>LAB CENTRAL DE SAUDE PUB DR MILTON BEZERRA SOBRAL</td>\n",
              "      <td>2712075.0</td>\n",
              "      <td>4.0</td>\n",
              "      <td>NaN</td>\n",
              "      <td>1.0</td>\n",
              "      <td>1.0</td>\n",
              "      <td>30/04/2019</td>\n",
              "      <td>06/05/2019</td>\n",
              "      <td>NaN</td>\n",
              "      <td>NaN</td>\n",
              "      <td>0</td>\n",
              "      <td>NaN</td>\n",
              "      <td>NaN</td>\n",
              "      <td>NaN</td>\n",
              "      <td>NaN</td>\n",
              "      <td>NaN</td>\n",
              "      <td>NaN</td>\n",
              "      <td>NaN</td>\n",
              "      <td>NaN</td>\n",
              "    </tr>\n",
              "    <tr>\n",
              "      <th>39607</th>\n",
              "      <td>20/09/2019</td>\n",
              "      <td>38</td>\n",
              "      <td>18/09/2019</td>\n",
              "      <td>38</td>\n",
              "      <td>SP</td>\n",
              "      <td>GVE I CAPITAL</td>\n",
              "      <td>1331.0</td>\n",
              "      <td>SAO PAULO</td>\n",
              "      <td>355030</td>\n",
              "      <td>HOSPITAL SAO PAULO HOSPITAL DE ENSINO DA UNIFE...</td>\n",
              "      <td>2077485</td>\n",
              "      <td>M</td>\n",
              "      <td>07/01/1969</td>\n",
              "      <td>50</td>\n",
              "      <td>3</td>\n",
              "      <td>3050</td>\n",
              "      <td>6</td>\n",
              "      <td>NaN</td>\n",
              "      <td>NaN</td>\n",
              "      <td>NaN</td>\n",
              "      <td>BRASIL</td>\n",
              "      <td>1.0</td>\n",
              "      <td>SP</td>\n",
              "      <td>1331.0</td>\n",
              "      <td>SAO PAULO</td>\n",
              "      <td>355030.0</td>\n",
              "      <td>1.0</td>\n",
              "      <td>2.0</td>\n",
              "      <td>1.0</td>\n",
              "      <td>2.0</td>\n",
              "      <td>1.0</td>\n",
              "      <td>2.0</td>\n",
              "      <td>1.0</td>\n",
              "      <td>2.0</td>\n",
              "      <td>1.0</td>\n",
              "      <td>2.0</td>\n",
              "      <td>2.0</td>\n",
              "      <td>2.0</td>\n",
              "      <td>NaN</td>\n",
              "      <td>NaN</td>\n",
              "      <td>...</td>\n",
              "      <td>NaN</td>\n",
              "      <td>2.0</td>\n",
              "      <td>19/09/2019</td>\n",
              "      <td>NaN</td>\n",
              "      <td>NaN</td>\n",
              "      <td>NaN</td>\n",
              "      <td>NaN</td>\n",
              "      <td>NaN</td>\n",
              "      <td>NaN</td>\n",
              "      <td>NaN</td>\n",
              "      <td>NaN</td>\n",
              "      <td>NaN</td>\n",
              "      <td>NaN</td>\n",
              "      <td>NaN</td>\n",
              "      <td>NaN</td>\n",
              "      <td>NaN</td>\n",
              "      <td>NaN</td>\n",
              "      <td>NaN</td>\n",
              "      <td>NaN</td>\n",
              "      <td>NaN</td>\n",
              "      <td>NaN</td>\n",
              "      <td>NaN</td>\n",
              "      <td>NaN</td>\n",
              "      <td>4.0</td>\n",
              "      <td>NaN</td>\n",
              "      <td>1.0</td>\n",
              "      <td>NaN</td>\n",
              "      <td>NaN</td>\n",
              "      <td>15/10/2019</td>\n",
              "      <td>NaN</td>\n",
              "      <td>20/09/2019</td>\n",
              "      <td>0</td>\n",
              "      <td>NaN</td>\n",
              "      <td>NaN</td>\n",
              "      <td>NaN</td>\n",
              "      <td>NaN</td>\n",
              "      <td>NaN</td>\n",
              "      <td>NaN</td>\n",
              "      <td>NaN</td>\n",
              "      <td>NaN</td>\n",
              "    </tr>\n",
              "  </tbody>\n",
              "</table>\n",
              "<p>3 rows × 139 columns</p>\n",
              "</div>"
            ],
            "text/plain": [
              "       DT_NOTIFIC  SEM_NOT  DT_SIN_PRI  ...  PCR_SARS2 PAC_COCBO PAC_DSCBO\n",
              "36670  02/08/2019       31  29/07/2019  ...        NaN       NaN       NaN\n",
              "10040  23/04/2019       17  21/04/2019  ...        NaN       NaN       NaN\n",
              "39607  20/09/2019       38  18/09/2019  ...        NaN       NaN       NaN\n",
              "\n",
              "[3 rows x 139 columns]"
            ]
          },
          "metadata": {
            "tags": []
          },
          "execution_count": 28
        }
      ]
    },
    {
      "cell_type": "code",
      "metadata": {
        "id": "7MDDxWxNdDSd"
      },
      "source": [
        "evolucao_caso = {1:'Cura', 2:'Óbito', \n",
        "                 3:'Óbito por outras causas', 9:'Ignorado'}\n",
        "classificacao_final = {1:'SRAG por influenza', 2:'SRAG por outro vírus respiratório',\n",
        "                       3:'SRAG por outro agente etiológico',\n",
        "                       4:'SRAG não especificado', 5:'SRAG por COVID-19'}"
      ],
      "execution_count": null,
      "outputs": []
    },
    {
      "cell_type": "markdown",
      "metadata": {
        "id": "-e9g44dStBo6"
      },
      "source": [
        "Evolução dos Casos com NaN na feature EVOLUCAO **não** tratados"
      ]
    },
    {
      "cell_type": "code",
      "metadata": {
        "colab": {
          "base_uri": "https://localhost:8080/"
        },
        "id": "Z3PsjWSer4Y2",
        "outputId": "dfa0dcdc-5888-42f4-ea38-302b0d52beaf"
      },
      "source": [
        "pd_n_sarg_2019.groupby('EVOLUCAO').size().sort_values()"
      ],
      "execution_count": null,
      "outputs": [
        {
          "output_type": "execute_result",
          "data": {
            "text/plain": [
              "EVOLUCAO\n",
              "9.0     1384\n",
              "2.0     5370\n",
              "1.0    38646\n",
              "dtype: int64"
            ]
          },
          "metadata": {
            "tags": []
          },
          "execution_count": 106
        }
      ]
    },
    {
      "cell_type": "code",
      "metadata": {
        "colab": {
          "base_uri": "https://localhost:8080/"
        },
        "id": "sj5LJMrbmHBt",
        "outputId": "8cfef23f-4077-48af-dff2-ffe76f654113"
      },
      "source": [
        "# Verifica se tem NaN na target \"EVOLUCAO\"\n",
        "hasNan = pd_n_sarg_2019['EVOLUCAO'].isnull().values.any()\n",
        "print(hasNan)"
      ],
      "execution_count": null,
      "outputs": [
        {
          "output_type": "stream",
          "text": [
            "True\n"
          ],
          "name": "stdout"
        }
      ]
    },
    {
      "cell_type": "code",
      "metadata": {
        "colab": {
          "base_uri": "https://localhost:8080/"
        },
        "id": "SC1vOQsNmcaK",
        "outputId": "cd641a80-b11c-4a42-c776-b5000e99085f"
      },
      "source": [
        "# Verifica se tem NaN na target \"CLASSI_FIN\"\n",
        "hasNan = pd_n_sarg_2019['CLASSI_FIN'].isnull().values.any()\n",
        "print(hasNan)"
      ],
      "execution_count": null,
      "outputs": [
        {
          "output_type": "stream",
          "text": [
            "True\n"
          ],
          "name": "stdout"
        }
      ]
    },
    {
      "cell_type": "code",
      "metadata": {
        "id": "dnYg16mflfu7"
      },
      "source": [
        "pd_n_sarg_2019.loc[(pd_n_sarg_2019.EVOLUCAO.isnull()), 'EVOLUCAO'] = 9\n",
        "pd_n_sarg_2019.loc[(pd_n_sarg_2019.CLASSI_FIN.isnull()), 'CLASSI_FIN'] = 1\n",
        "pd_n_sarg_2019['EVOLUCAO'] = pd_n_sarg_2019['EVOLUCAO'].apply(lambda x: evolucao_caso[x])\n",
        "pd_n_sarg_2019['CLASSI_FIN'] = pd_n_sarg_2019['CLASSI_FIN'].apply(lambda x: classificacao_final[x])"
      ],
      "execution_count": null,
      "outputs": []
    },
    {
      "cell_type": "code",
      "metadata": {
        "colab": {
          "base_uri": "https://localhost:8080/"
        },
        "id": "6CjyIyxRmbtU",
        "outputId": "ce9c2474-7ab1-441a-8945-bf38447a58d9"
      },
      "source": [
        "# Verifica se tem NaN na target \"EVOLUCAO\"\n",
        "hasNan = pd_n_sarg_2019['EVOLUCAO'].isnull().values.any()\n",
        "print(hasNan)"
      ],
      "execution_count": null,
      "outputs": [
        {
          "output_type": "stream",
          "text": [
            "False\n"
          ],
          "name": "stdout"
        }
      ]
    },
    {
      "cell_type": "code",
      "metadata": {
        "colab": {
          "base_uri": "https://localhost:8080/"
        },
        "id": "Vbk0Q-zbmbtc",
        "outputId": "65253e55-6e08-4621-e698-272c9a7e92dd"
      },
      "source": [
        "# Verifica se tem NaN na target \"CLASSI_FIN\"\n",
        "hasNan = pd_n_sarg_2019['CLASSI_FIN'].isnull().values.any()\n",
        "print(hasNan)"
      ],
      "execution_count": null,
      "outputs": [
        {
          "output_type": "stream",
          "text": [
            "False\n"
          ],
          "name": "stdout"
        }
      ]
    },
    {
      "cell_type": "code",
      "metadata": {
        "colab": {
          "base_uri": "https://localhost:8080/",
          "height": 279
        },
        "id": "OORFC-0emMQQ",
        "outputId": "f932e6c7-ab2d-4a32-fb61-070b2eb03f22"
      },
      "source": [
        "pd_n_sarg_2019.groupby('CLASSI_FIN').size().sort_values().plot(kind='barh')"
      ],
      "execution_count": null,
      "outputs": [
        {
          "output_type": "execute_result",
          "data": {
            "text/plain": [
              "<matplotlib.axes._subplots.AxesSubplot at 0x7fbb2bdaa810>"
            ]
          },
          "metadata": {
            "tags": []
          },
          "execution_count": 112
        },
        {
          "output_type": "display_data",
          "data": {
            "image/png": "[encoded data removed]",
            "text/plain": [
              "<Figure size 432x288 with 1 Axes>"
            ]
          },
          "metadata": {
            "tags": [],
            "needs_background": "light"
          }
        }
      ]
    },
    {
      "cell_type": "code",
      "metadata": {
        "colab": {
          "base_uri": "https://localhost:8080/"
        },
        "id": "q3tx1GqsmJQI",
        "outputId": "ed4603d9-5957-45f9-d313-47ba1e48b716"
      },
      "source": [
        "pd_n_sarg_2019.groupby('EVOLUCAO').size().sort_values()"
      ],
      "execution_count": null,
      "outputs": [
        {
          "output_type": "execute_result",
          "data": {
            "text/plain": [
              "EVOLUCAO\n",
              "Ignorado     4512\n",
              "Óbito        5370\n",
              "Cura        38646\n",
              "dtype: int64"
            ]
          },
          "metadata": {
            "tags": []
          },
          "execution_count": 37
        }
      ]
    },
    {
      "cell_type": "markdown",
      "metadata": {
        "id": "SkbcCnsFacxM"
      },
      "source": [
        "### OpenDataSUS\n",
        "SRAG 2020 - Banco de Dados de Síndrome Respiratória Aguda Grave - incluindo dados da COVID-19\n",
        "Vigilância de Síndrome Respiratória Aguda Grave (SRAG)"
      ]
    },
    {
      "cell_type": "code",
      "metadata": {
        "colab": {
          "base_uri": "https://localhost:8080/"
        },
        "id": "4B9VQ07wawP1",
        "outputId": "71d08c46-bf22-4166-ad43-9cd3562955a6"
      },
      "source": [
        "pd_n_sarg_2020 = pd.read_csv('/content/drive/MyDrive/TADS - UFRN/2020.2/data_science/trab03/dataset/sarg_2020.csv', encoding='ISO-8859-1', delimiter=';', error_bad_lines=False)"
      ],
      "execution_count": null,
      "outputs": [
        {
          "output_type": "stream",
          "text": [
            "/usr/local/lib/python3.7/dist-packages/IPython/core/interactiveshell.py:2718: DtypeWarning: Columns (15,60,62,63,64,92,94,106,108,115,117,118,119,123) have mixed types.Specify dtype option on import or set low_memory=False.\n",
            "  interactivity=interactivity, compiler=compiler, result=result)\n"
          ],
          "name": "stderr"
        }
      ]
    },
    {
      "cell_type": "code",
      "metadata": {
        "colab": {
          "base_uri": "https://localhost:8080/"
        },
        "id": "FeJXMzULnFXi",
        "outputId": "3b06657d-01d0-4809-c459-620ab335b78c"
      },
      "source": [
        "# Verifica se tem NaN na target \"EVOLUCAO\"\n",
        "hasNan = pd_n_sarg_2020['EVOLUCAO'].isnull().values.any()\n",
        "print(hasNan)"
      ],
      "execution_count": null,
      "outputs": [
        {
          "output_type": "stream",
          "text": [
            "False\n"
          ],
          "name": "stdout"
        }
      ]
    },
    {
      "cell_type": "code",
      "metadata": {
        "colab": {
          "base_uri": "https://localhost:8080/"
        },
        "id": "Ee0ZSsEtnFXp",
        "outputId": "5c020404-374d-48be-f282-d29a32c19515"
      },
      "source": [
        "# Verifica se tem NaN na target \"CLASSI_FIN\"\n",
        "hasNan = pd_n_sarg_2020['CLASSI_FIN'].isnull().values.any()\n",
        "print(hasNan)"
      ],
      "execution_count": null,
      "outputs": [
        {
          "output_type": "stream",
          "text": [
            "True\n"
          ],
          "name": "stdout"
        }
      ]
    },
    {
      "cell_type": "code",
      "metadata": {
        "id": "pBli_aGiwX2X"
      },
      "source": [
        "evolucao_caso = {1:'Cura', 2:'Óbito', \n",
        "                 3:'Óbito por outras causas', 9:'Ignorado'}\n",
        "classificacao_final = {1:'SRAG por influenza', 2:'SRAG por outro vírus respiratório',\n",
        "                       3:'SRAG por outro agente etiológico',\n",
        "                       4:'SRAG não especificado', 5:'SRAG por COVID-19'}"
      ],
      "execution_count": null,
      "outputs": []
    },
    {
      "cell_type": "code",
      "metadata": {
        "colab": {
          "base_uri": "https://localhost:8080/"
        },
        "id": "-tpzIFVUoLc7",
        "outputId": "c7034f9c-abe2-476c-f132-91921be7687a"
      },
      "source": [
        "pd_n_sarg_2020.groupby('EVOLUCAO').size().sort_values()"
      ],
      "execution_count": null,
      "outputs": [
        {
          "output_type": "execute_result",
          "data": {
            "text/plain": [
              "EVOLUCAO\n",
              "3.0     14096\n",
              "9.0     30566\n",
              "2.0    301804\n",
              "1.0    701374\n",
              "dtype: int64"
            ]
          },
          "metadata": {
            "tags": []
          },
          "execution_count": 54
        }
      ]
    },
    {
      "cell_type": "code",
      "metadata": {
        "id": "l31ETqxneq3L"
      },
      "source": [
        "pd_n_sarg_2020.loc[(pd_n_sarg_2020.EVOLUCAO.isnull()), 'EVOLUCAO'] = 9\n",
        "pd_n_sarg_2020.loc[(pd_n_sarg_2020.CLASSI_FIN.isnull()), 'CLASSI_FIN'] = 1\n",
        "pd_n_sarg_2020['EVOLUCAO'] = pd_n_sarg_2020['EVOLUCAO'].apply(lambda x: evolucao_caso[x])\n",
        "pd_n_sarg_2020['CLASSI_FIN'] = pd_n_sarg_2020['CLASSI_FIN'].apply(lambda x: classificacao_final[x])"
      ],
      "execution_count": null,
      "outputs": []
    },
    {
      "cell_type": "code",
      "metadata": {
        "colab": {
          "base_uri": "https://localhost:8080/",
          "height": 440
        },
        "id": "no3BMBJYbLkH",
        "outputId": "90109218-c290-4124-fa1b-6090e9bb03f7"
      },
      "source": [
        "pd_n_sarg_2020.sample(5)"
      ],
      "execution_count": null,
      "outputs": [
        {
          "output_type": "execute_result",
          "data": {
            "text/html": [
              "<div>\n",
              "<style scoped>\n",
              "    .dataframe tbody tr th:only-of-type {\n",
              "        vertical-align: middle;\n",
              "    }\n",
              "\n",
              "    .dataframe tbody tr th {\n",
              "        vertical-align: top;\n",
              "    }\n",
              "\n",
              "    .dataframe thead th {\n",
              "        text-align: right;\n",
              "    }\n",
              "</style>\n",
              "<table border=\"1\" class=\"dataframe\">\n",
              "  <thead>\n",
              "    <tr style=\"text-align: right;\">\n",
              "      <th></th>\n",
              "      <th>DT_NOTIFIC</th>\n",
              "      <th>SEM_NOT</th>\n",
              "      <th>DT_SIN_PRI</th>\n",
              "      <th>SEM_PRI</th>\n",
              "      <th>SG_UF_NOT</th>\n",
              "      <th>ID_REGIONA</th>\n",
              "      <th>CO_REGIONA</th>\n",
              "      <th>ID_MUNICIP</th>\n",
              "      <th>CO_MUN_NOT</th>\n",
              "      <th>ID_UNIDADE</th>\n",
              "      <th>CO_UNI_NOT</th>\n",
              "      <th>CS_SEXO</th>\n",
              "      <th>DT_NASC</th>\n",
              "      <th>NU_IDADE_N</th>\n",
              "      <th>TP_IDADE</th>\n",
              "      <th>COD_IDADE</th>\n",
              "      <th>CS_GESTANT</th>\n",
              "      <th>CS_RACA</th>\n",
              "      <th>CS_ETINIA</th>\n",
              "      <th>CS_ESCOL_N</th>\n",
              "      <th>ID_PAIS</th>\n",
              "      <th>CO_PAIS</th>\n",
              "      <th>SG_UF</th>\n",
              "      <th>ID_RG_RESI</th>\n",
              "      <th>CO_RG_RESI</th>\n",
              "      <th>ID_MN_RESI</th>\n",
              "      <th>CO_MUN_RES</th>\n",
              "      <th>CS_ZONA</th>\n",
              "      <th>SURTO_SG</th>\n",
              "      <th>NOSOCOMIAL</th>\n",
              "      <th>AVE_SUINO</th>\n",
              "      <th>FEBRE</th>\n",
              "      <th>TOSSE</th>\n",
              "      <th>GARGANTA</th>\n",
              "      <th>DISPNEIA</th>\n",
              "      <th>DESC_RESP</th>\n",
              "      <th>SATURACAO</th>\n",
              "      <th>DIARREIA</th>\n",
              "      <th>VOMITO</th>\n",
              "      <th>OUTRO_SIN</th>\n",
              "      <th>...</th>\n",
              "      <th>HISTO_VGM</th>\n",
              "      <th>PAIS_VGM</th>\n",
              "      <th>CO_PS_VGM</th>\n",
              "      <th>LO_PS_VGM</th>\n",
              "      <th>DT_VGM</th>\n",
              "      <th>DT_RT_VGM</th>\n",
              "      <th>PCR_SARS2</th>\n",
              "      <th>PAC_COCBO</th>\n",
              "      <th>PAC_DSCBO</th>\n",
              "      <th>OUT_ANIM</th>\n",
              "      <th>DOR_ABD</th>\n",
              "      <th>FADIGA</th>\n",
              "      <th>PERD_OLFT</th>\n",
              "      <th>PERD_PALA</th>\n",
              "      <th>TOMO_RES</th>\n",
              "      <th>TOMO_OUT</th>\n",
              "      <th>DT_TOMO</th>\n",
              "      <th>TP_TES_AN</th>\n",
              "      <th>DT_RES_AN</th>\n",
              "      <th>RES_AN</th>\n",
              "      <th>POS_AN_FLU</th>\n",
              "      <th>TP_FLU_AN</th>\n",
              "      <th>POS_AN_OUT</th>\n",
              "      <th>AN_SARS2</th>\n",
              "      <th>AN_VSR</th>\n",
              "      <th>AN_PARA1</th>\n",
              "      <th>AN_PARA2</th>\n",
              "      <th>AN_PARA3</th>\n",
              "      <th>AN_ADENO</th>\n",
              "      <th>AN_OUTRO</th>\n",
              "      <th>DS_AN_OUT</th>\n",
              "      <th>TP_AM_SOR</th>\n",
              "      <th>SOR_OUT</th>\n",
              "      <th>DT_CO_SOR</th>\n",
              "      <th>TP_SOR</th>\n",
              "      <th>OUT_SOR</th>\n",
              "      <th>DT_RES</th>\n",
              "      <th>RES_IGG</th>\n",
              "      <th>RES_IGM</th>\n",
              "      <th>RES_IGA</th>\n",
              "    </tr>\n",
              "  </thead>\n",
              "  <tbody>\n",
              "    <tr>\n",
              "      <th>136921</th>\n",
              "      <td>04/10/2020</td>\n",
              "      <td>41</td>\n",
              "      <td>25/09/2020</td>\n",
              "      <td>39</td>\n",
              "      <td>RJ</td>\n",
              "      <td>NaN</td>\n",
              "      <td>NaN</td>\n",
              "      <td>ANGRA DOS REIS</td>\n",
              "      <td>330010</td>\n",
              "      <td>HOSPITAL E MATERNIDADE CODRATO DE VILHENA</td>\n",
              "      <td>2280868</td>\n",
              "      <td>F</td>\n",
              "      <td>13/12/1943</td>\n",
              "      <td>76</td>\n",
              "      <td>3</td>\n",
              "      <td>3076</td>\n",
              "      <td>5</td>\n",
              "      <td>4.0</td>\n",
              "      <td>NaN</td>\n",
              "      <td>NaN</td>\n",
              "      <td>BRASIL</td>\n",
              "      <td>1</td>\n",
              "      <td>RJ</td>\n",
              "      <td>NaN</td>\n",
              "      <td>NaN</td>\n",
              "      <td>ANGRA DOS REIS</td>\n",
              "      <td>330010.0</td>\n",
              "      <td>NaN</td>\n",
              "      <td>NaN</td>\n",
              "      <td>NaN</td>\n",
              "      <td>NaN</td>\n",
              "      <td>NaN</td>\n",
              "      <td>1.0</td>\n",
              "      <td>NaN</td>\n",
              "      <td>NaN</td>\n",
              "      <td>1.0</td>\n",
              "      <td>1.0</td>\n",
              "      <td>1.0</td>\n",
              "      <td>NaN</td>\n",
              "      <td>1.0</td>\n",
              "      <td>...</td>\n",
              "      <td>0</td>\n",
              "      <td>NaN</td>\n",
              "      <td>NaN</td>\n",
              "      <td>NaN</td>\n",
              "      <td>NaN</td>\n",
              "      <td>NaN</td>\n",
              "      <td>1.0</td>\n",
              "      <td>NaN</td>\n",
              "      <td>NaN</td>\n",
              "      <td>NaN</td>\n",
              "      <td>NaN</td>\n",
              "      <td>NaN</td>\n",
              "      <td>NaN</td>\n",
              "      <td>NaN</td>\n",
              "      <td>1.0</td>\n",
              "      <td>NaN</td>\n",
              "      <td>04/10/2020</td>\n",
              "      <td>NaN</td>\n",
              "      <td>NaN</td>\n",
              "      <td>5.0</td>\n",
              "      <td>NaN</td>\n",
              "      <td>NaN</td>\n",
              "      <td>NaN</td>\n",
              "      <td>NaN</td>\n",
              "      <td>NaN</td>\n",
              "      <td>NaN</td>\n",
              "      <td>NaN</td>\n",
              "      <td>NaN</td>\n",
              "      <td>NaN</td>\n",
              "      <td>NaN</td>\n",
              "      <td>NaN</td>\n",
              "      <td>NaN</td>\n",
              "      <td>NaN</td>\n",
              "      <td>NaN</td>\n",
              "      <td>NaN</td>\n",
              "      <td>NaN</td>\n",
              "      <td>NaN</td>\n",
              "      <td>NaN</td>\n",
              "      <td>NaN</td>\n",
              "      <td>NaN</td>\n",
              "    </tr>\n",
              "    <tr>\n",
              "      <th>348342</th>\n",
              "      <td>07/09/2020</td>\n",
              "      <td>37</td>\n",
              "      <td>31/08/2020</td>\n",
              "      <td>36</td>\n",
              "      <td>SP</td>\n",
              "      <td>GVE I CAPITAL</td>\n",
              "      <td>1331.0</td>\n",
              "      <td>SAO PAULO</td>\n",
              "      <td>355030</td>\n",
              "      <td>HOSP DO SERV PUB MUNICIPAL HSPM</td>\n",
              "      <td>2752077</td>\n",
              "      <td>F</td>\n",
              "      <td>17/11/1946</td>\n",
              "      <td>73</td>\n",
              "      <td>3</td>\n",
              "      <td>3073</td>\n",
              "      <td>6</td>\n",
              "      <td>1.0</td>\n",
              "      <td>NaN</td>\n",
              "      <td>9.0</td>\n",
              "      <td>BRASIL</td>\n",
              "      <td>1</td>\n",
              "      <td>SP</td>\n",
              "      <td>GVE I CAPITAL</td>\n",
              "      <td>1331.0</td>\n",
              "      <td>SAO PAULO</td>\n",
              "      <td>355030.0</td>\n",
              "      <td>1.0</td>\n",
              "      <td>2.0</td>\n",
              "      <td>NaN</td>\n",
              "      <td>2.0</td>\n",
              "      <td>1.0</td>\n",
              "      <td>1.0</td>\n",
              "      <td>2.0</td>\n",
              "      <td>2.0</td>\n",
              "      <td>1.0</td>\n",
              "      <td>1.0</td>\n",
              "      <td>2.0</td>\n",
              "      <td>2.0</td>\n",
              "      <td>NaN</td>\n",
              "      <td>...</td>\n",
              "      <td>2</td>\n",
              "      <td>NaN</td>\n",
              "      <td>NaN</td>\n",
              "      <td>NaN</td>\n",
              "      <td>NaN</td>\n",
              "      <td>NaN</td>\n",
              "      <td>1.0</td>\n",
              "      <td>NaN</td>\n",
              "      <td>NaN</td>\n",
              "      <td>NaN</td>\n",
              "      <td>2.0</td>\n",
              "      <td>1.0</td>\n",
              "      <td>1.0</td>\n",
              "      <td>1.0</td>\n",
              "      <td>1.0</td>\n",
              "      <td>NaN</td>\n",
              "      <td>07/09/2020</td>\n",
              "      <td>NaN</td>\n",
              "      <td>NaN</td>\n",
              "      <td>4.0</td>\n",
              "      <td>NaN</td>\n",
              "      <td>NaN</td>\n",
              "      <td>NaN</td>\n",
              "      <td>NaN</td>\n",
              "      <td>NaN</td>\n",
              "      <td>NaN</td>\n",
              "      <td>NaN</td>\n",
              "      <td>NaN</td>\n",
              "      <td>NaN</td>\n",
              "      <td>NaN</td>\n",
              "      <td>NaN</td>\n",
              "      <td>1.0</td>\n",
              "      <td>NaN</td>\n",
              "      <td>15/09/2020</td>\n",
              "      <td>1.0</td>\n",
              "      <td>NaN</td>\n",
              "      <td>15/09/2020</td>\n",
              "      <td>1.0</td>\n",
              "      <td>1.0</td>\n",
              "      <td>4.0</td>\n",
              "    </tr>\n",
              "    <tr>\n",
              "      <th>63547</th>\n",
              "      <td>20/12/2020</td>\n",
              "      <td>52</td>\n",
              "      <td>19/12/2020</td>\n",
              "      <td>51</td>\n",
              "      <td>MG</td>\n",
              "      <td>DIAMANTINA</td>\n",
              "      <td>1450.0</td>\n",
              "      <td>DIAMANTINA</td>\n",
              "      <td>312160</td>\n",
              "      <td>SANTA CASA DE CARIDADE</td>\n",
              "      <td>2135132</td>\n",
              "      <td>M</td>\n",
              "      <td>27/01/1968</td>\n",
              "      <td>52</td>\n",
              "      <td>3</td>\n",
              "      <td>3052</td>\n",
              "      <td>6</td>\n",
              "      <td>1.0</td>\n",
              "      <td>NaN</td>\n",
              "      <td>9.0</td>\n",
              "      <td>BRASIL</td>\n",
              "      <td>1</td>\n",
              "      <td>MG</td>\n",
              "      <td>DIAMANTINA</td>\n",
              "      <td>1450.0</td>\n",
              "      <td>SENADOR MODESTINO GONCALVES</td>\n",
              "      <td>316590.0</td>\n",
              "      <td>1.0</td>\n",
              "      <td>2.0</td>\n",
              "      <td>2.0</td>\n",
              "      <td>2.0</td>\n",
              "      <td>1.0</td>\n",
              "      <td>2.0</td>\n",
              "      <td>2.0</td>\n",
              "      <td>1.0</td>\n",
              "      <td>1.0</td>\n",
              "      <td>1.0</td>\n",
              "      <td>2.0</td>\n",
              "      <td>2.0</td>\n",
              "      <td>1.0</td>\n",
              "      <td>...</td>\n",
              "      <td>2</td>\n",
              "      <td>NaN</td>\n",
              "      <td>NaN</td>\n",
              "      <td>NaN</td>\n",
              "      <td>NaN</td>\n",
              "      <td>NaN</td>\n",
              "      <td>NaN</td>\n",
              "      <td>NaN</td>\n",
              "      <td>NaN</td>\n",
              "      <td>NaN</td>\n",
              "      <td>2.0</td>\n",
              "      <td>1.0</td>\n",
              "      <td>2.0</td>\n",
              "      <td>2.0</td>\n",
              "      <td>1.0</td>\n",
              "      <td>NaN</td>\n",
              "      <td>20/12/2020</td>\n",
              "      <td>NaN</td>\n",
              "      <td>NaN</td>\n",
              "      <td>5.0</td>\n",
              "      <td>NaN</td>\n",
              "      <td>NaN</td>\n",
              "      <td>NaN</td>\n",
              "      <td>NaN</td>\n",
              "      <td>NaN</td>\n",
              "      <td>NaN</td>\n",
              "      <td>NaN</td>\n",
              "      <td>NaN</td>\n",
              "      <td>NaN</td>\n",
              "      <td>NaN</td>\n",
              "      <td>NaN</td>\n",
              "      <td>NaN</td>\n",
              "      <td>NaN</td>\n",
              "      <td>NaN</td>\n",
              "      <td>NaN</td>\n",
              "      <td>NaN</td>\n",
              "      <td>NaN</td>\n",
              "      <td>NaN</td>\n",
              "      <td>NaN</td>\n",
              "      <td>NaN</td>\n",
              "    </tr>\n",
              "    <tr>\n",
              "      <th>147400</th>\n",
              "      <td>23/11/2020</td>\n",
              "      <td>48</td>\n",
              "      <td>11/11/2020</td>\n",
              "      <td>46</td>\n",
              "      <td>CE</td>\n",
              "      <td>1 CRES FORTALEZA</td>\n",
              "      <td>1519.0</td>\n",
              "      <td>FORTALEZA</td>\n",
              "      <td>230440</td>\n",
              "      <td>HOSPITAL OTOCLINICA</td>\n",
              "      <td>3001113</td>\n",
              "      <td>F</td>\n",
              "      <td>29/11/1957</td>\n",
              "      <td>62</td>\n",
              "      <td>3</td>\n",
              "      <td>3062</td>\n",
              "      <td>5</td>\n",
              "      <td>9.0</td>\n",
              "      <td>NaN</td>\n",
              "      <td>9.0</td>\n",
              "      <td>BRASIL</td>\n",
              "      <td>1</td>\n",
              "      <td>CE</td>\n",
              "      <td>1 CRES FORTALEZA</td>\n",
              "      <td>1519.0</td>\n",
              "      <td>FORTALEZA</td>\n",
              "      <td>230440.0</td>\n",
              "      <td>1.0</td>\n",
              "      <td>1.0</td>\n",
              "      <td>2.0</td>\n",
              "      <td>2.0</td>\n",
              "      <td>2.0</td>\n",
              "      <td>2.0</td>\n",
              "      <td>2.0</td>\n",
              "      <td>2.0</td>\n",
              "      <td>2.0</td>\n",
              "      <td>1.0</td>\n",
              "      <td>2.0</td>\n",
              "      <td>2.0</td>\n",
              "      <td>1.0</td>\n",
              "      <td>...</td>\n",
              "      <td>2</td>\n",
              "      <td>NaN</td>\n",
              "      <td>NaN</td>\n",
              "      <td>NaN</td>\n",
              "      <td>NaN</td>\n",
              "      <td>NaN</td>\n",
              "      <td>1.0</td>\n",
              "      <td>NaN</td>\n",
              "      <td>NaN</td>\n",
              "      <td>NaN</td>\n",
              "      <td>2.0</td>\n",
              "      <td>2.0</td>\n",
              "      <td>2.0</td>\n",
              "      <td>2.0</td>\n",
              "      <td>1.0</td>\n",
              "      <td>NaN</td>\n",
              "      <td>05/11/2020</td>\n",
              "      <td>NaN</td>\n",
              "      <td>NaN</td>\n",
              "      <td>5.0</td>\n",
              "      <td>NaN</td>\n",
              "      <td>NaN</td>\n",
              "      <td>NaN</td>\n",
              "      <td>NaN</td>\n",
              "      <td>NaN</td>\n",
              "      <td>NaN</td>\n",
              "      <td>NaN</td>\n",
              "      <td>NaN</td>\n",
              "      <td>NaN</td>\n",
              "      <td>NaN</td>\n",
              "      <td>NaN</td>\n",
              "      <td>NaN</td>\n",
              "      <td>NaN</td>\n",
              "      <td>NaN</td>\n",
              "      <td>NaN</td>\n",
              "      <td>NaN</td>\n",
              "      <td>NaN</td>\n",
              "      <td>NaN</td>\n",
              "      <td>NaN</td>\n",
              "      <td>NaN</td>\n",
              "    </tr>\n",
              "    <tr>\n",
              "      <th>556474</th>\n",
              "      <td>27/09/2020</td>\n",
              "      <td>40</td>\n",
              "      <td>23/09/2020</td>\n",
              "      <td>39</td>\n",
              "      <td>RS</td>\n",
              "      <td>017 CRS</td>\n",
              "      <td>1604.0</td>\n",
              "      <td>IJUI</td>\n",
              "      <td>431020</td>\n",
              "      <td>HOSPITAL DE CARIDADE DE IJUI</td>\n",
              "      <td>2261057</td>\n",
              "      <td>F</td>\n",
              "      <td>21/09/1976</td>\n",
              "      <td>44</td>\n",
              "      <td>3</td>\n",
              "      <td>3044</td>\n",
              "      <td>5</td>\n",
              "      <td>1.0</td>\n",
              "      <td>NaN</td>\n",
              "      <td>2.0</td>\n",
              "      <td>BRASIL</td>\n",
              "      <td>1</td>\n",
              "      <td>RS</td>\n",
              "      <td>017 CRS</td>\n",
              "      <td>1604.0</td>\n",
              "      <td>IJUI</td>\n",
              "      <td>431020.0</td>\n",
              "      <td>1.0</td>\n",
              "      <td>2.0</td>\n",
              "      <td>2.0</td>\n",
              "      <td>2.0</td>\n",
              "      <td>2.0</td>\n",
              "      <td>2.0</td>\n",
              "      <td>2.0</td>\n",
              "      <td>1.0</td>\n",
              "      <td>1.0</td>\n",
              "      <td>1.0</td>\n",
              "      <td>2.0</td>\n",
              "      <td>2.0</td>\n",
              "      <td>1.0</td>\n",
              "      <td>...</td>\n",
              "      <td>2</td>\n",
              "      <td>NaN</td>\n",
              "      <td>NaN</td>\n",
              "      <td>NaN</td>\n",
              "      <td>NaN</td>\n",
              "      <td>NaN</td>\n",
              "      <td>NaN</td>\n",
              "      <td>NaN</td>\n",
              "      <td>NaN</td>\n",
              "      <td>NaN</td>\n",
              "      <td>1.0</td>\n",
              "      <td>1.0</td>\n",
              "      <td>2.0</td>\n",
              "      <td>2.0</td>\n",
              "      <td>NaN</td>\n",
              "      <td>NaN</td>\n",
              "      <td>NaN</td>\n",
              "      <td>NaN</td>\n",
              "      <td>NaN</td>\n",
              "      <td>4.0</td>\n",
              "      <td>NaN</td>\n",
              "      <td>NaN</td>\n",
              "      <td>NaN</td>\n",
              "      <td>NaN</td>\n",
              "      <td>NaN</td>\n",
              "      <td>NaN</td>\n",
              "      <td>NaN</td>\n",
              "      <td>NaN</td>\n",
              "      <td>NaN</td>\n",
              "      <td>NaN</td>\n",
              "      <td>NaN</td>\n",
              "      <td>NaN</td>\n",
              "      <td>NaN</td>\n",
              "      <td>NaN</td>\n",
              "      <td>NaN</td>\n",
              "      <td>NaN</td>\n",
              "      <td>NaN</td>\n",
              "      <td>NaN</td>\n",
              "      <td>NaN</td>\n",
              "      <td>NaN</td>\n",
              "    </tr>\n",
              "  </tbody>\n",
              "</table>\n",
              "<p>5 rows × 154 columns</p>\n",
              "</div>"
            ],
            "text/plain": [
              "        DT_NOTIFIC  SEM_NOT  DT_SIN_PRI  ...  RES_IGG RES_IGM RES_IGA\n",
              "136921  04/10/2020       41  25/09/2020  ...      NaN     NaN     NaN\n",
              "348342  07/09/2020       37  31/08/2020  ...      1.0     1.0     4.0\n",
              "63547   20/12/2020       52  19/12/2020  ...      NaN     NaN     NaN\n",
              "147400  23/11/2020       48  11/11/2020  ...      NaN     NaN     NaN\n",
              "556474  27/09/2020       40  23/09/2020  ...      NaN     NaN     NaN\n",
              "\n",
              "[5 rows x 154 columns]"
            ]
          },
          "metadata": {
            "tags": []
          },
          "execution_count": 19
        }
      ]
    },
    {
      "cell_type": "code",
      "metadata": {
        "colab": {
          "base_uri": "https://localhost:8080/"
        },
        "id": "WX4fd8abmsLR",
        "outputId": "4103541e-0bd9-4b10-b4a5-b78cdd17c67e"
      },
      "source": [
        "# Verifica se tem NaN na target \"EVOLUCAO\"\n",
        "hasNan = pd_n_sarg_2020['EVOLUCAO'].isnull().values.any()\n",
        "print(hasNan)"
      ],
      "execution_count": null,
      "outputs": [
        {
          "output_type": "stream",
          "text": [
            "False\n"
          ],
          "name": "stdout"
        }
      ]
    },
    {
      "cell_type": "code",
      "metadata": {
        "colab": {
          "base_uri": "https://localhost:8080/"
        },
        "id": "3X1tE60Rmw8m",
        "outputId": "0d6bfe9d-5db4-40d3-8c37-cfeb5844ab5b"
      },
      "source": [
        "# Verifica se tem NaN na target \"CLASSI_FIN\"\n",
        "hasNan = pd_n_sarg_2020['CLASSI_FIN'].isnull().values.any()\n",
        "print(hasNan)"
      ],
      "execution_count": null,
      "outputs": [
        {
          "output_type": "stream",
          "text": [
            "False\n"
          ],
          "name": "stdout"
        }
      ]
    },
    {
      "cell_type": "code",
      "metadata": {
        "colab": {
          "base_uri": "https://localhost:8080/"
        },
        "id": "fNvPrRkOZdsP",
        "outputId": "45f94202-57dd-4eb2-93d0-ca4ec5a674c3"
      },
      "source": [
        "pd_n_sarg_2020.groupby('EVOLUCAO').size().sort_values()"
      ],
      "execution_count": null,
      "outputs": [
        {
          "output_type": "execute_result",
          "data": {
            "text/plain": [
              "EVOLUCAO\n",
              "Óbito por outras causas     14096\n",
              "Ignorado                   174530\n",
              "Óbito                      301804\n",
              "Cura                       701374\n",
              "dtype: int64"
            ]
          },
          "metadata": {
            "tags": []
          },
          "execution_count": 116
        }
      ]
    },
    {
      "cell_type": "code",
      "metadata": {
        "colab": {
          "base_uri": "https://localhost:8080/",
          "height": 279
        },
        "id": "WmVsyfQ4g2d3",
        "outputId": "36de2de6-4473-459b-cac3-c6e1fc46c7a9"
      },
      "source": [
        "pd_n_sarg_2020.groupby('EVOLUCAO').size().sort_values().plot(kind='barh')"
      ],
      "execution_count": null,
      "outputs": [
        {
          "output_type": "execute_result",
          "data": {
            "text/plain": [
              "<matplotlib.axes._subplots.AxesSubplot at 0x7fbaca1c5590>"
            ]
          },
          "metadata": {
            "tags": []
          },
          "execution_count": 65
        },
        {
          "output_type": "display_data",
          "data": {
            "image/png": "[encoded data removed]",
            "text/plain": [
              "<Figure size 432x288 with 1 Axes>"
            ]
          },
          "metadata": {
            "tags": [],
            "needs_background": "light"
          }
        }
      ]
    },
    {
      "cell_type": "markdown",
      "metadata": {
        "id": "lUCfa7Mb5wIm"
      },
      "source": [
        "Identificação de todos o casos identificado de SARG em 2020 - Incluindo os Recuperados e os Óbitos"
      ]
    },
    {
      "cell_type": "code",
      "metadata": {
        "colab": {
          "base_uri": "https://localhost:8080/",
          "height": 279
        },
        "id": "4nCBhI2NiRGl",
        "outputId": "cb09cd36-d75a-4f62-d8da-0c2d49dfff69"
      },
      "source": [
        "pd_n_sarg_2020.groupby('CLASSI_FIN').size().sort_values().plot(kind='barh')"
      ],
      "execution_count": null,
      "outputs": [
        {
          "output_type": "execute_result",
          "data": {
            "text/plain": [
              "<matplotlib.axes._subplots.AxesSubplot at 0x7fbac7d4f5d0>"
            ]
          },
          "metadata": {
            "tags": []
          },
          "execution_count": 62
        },
        {
          "output_type": "display_data",
          "data": {
            "image/png": "[encoded data removed]",
            "text/plain": [
              "<Figure size 432x288 with 1 Axes>"
            ]
          },
          "metadata": {
            "tags": [],
            "needs_background": "light"
          }
        }
      ]
    },
    {
      "cell_type": "markdown",
      "metadata": {
        "id": "PL5OCU6iqsIo"
      },
      "source": [
        "Todos os Óbitos por SARG em 2020"
      ]
    },
    {
      "cell_type": "code",
      "metadata": {
        "colab": {
          "base_uri": "https://localhost:8080/"
        },
        "id": "AdLNZUmEdDcG",
        "outputId": "415264b5-a5fe-4155-8da7-747985385b59"
      },
      "source": [
        "pd_n_obito_sarg_2020 = pd_n_sarg_2020.query('EVOLUCAO == \"Óbito\"')\n",
        "n_obito_sarg_2020 = pd_n_obito_sarg_2020.query('EVOLUCAO == \"Óbito\"')['EVOLUCAO'].value_counts()\n",
        "print(n_obito_sarg_2020)"
      ],
      "execution_count": null,
      "outputs": [
        {
          "output_type": "stream",
          "text": [
            "Óbito    301804\n",
            "Name: EVOLUCAO, dtype: int64\n"
          ],
          "name": "stdout"
        }
      ]
    },
    {
      "cell_type": "markdown",
      "metadata": {
        "id": "80bq6VCoL9Zd"
      },
      "source": [
        "Diferença do número de óbitos por SARG em 2020 (incluindo COVID) em compração a 2019"
      ]
    },
    {
      "cell_type": "code",
      "metadata": {
        "colab": {
          "base_uri": "https://localhost:8080/"
        },
        "id": "cVpOKs8wLw46",
        "outputId": "812830d6-08ca-4480-c19a-4ae51888e75f"
      },
      "source": [
        "diff_sarg_2020_2019 = pd_n_sarg_2020.query('EVOLUCAO == \"Óbito\"')['EVOLUCAO'].count() - pd_n_sarg_2019.query('EVOLUCAO == \"Óbito\"')['EVOLUCAO'].count()\n",
        "print(\"Diferença do óbitos por SARG entre os anos de 2020-2019 \\nÓbitos:\",diff_sarg_2020_2019)"
      ],
      "execution_count": null,
      "outputs": [
        {
          "output_type": "stream",
          "text": [
            "Diferença do óbitos por SARG entre os anos de 2020-2019 \n",
            "Óbitos: 296434\n"
          ],
          "name": "stdout"
        }
      ]
    },
    {
      "cell_type": "code",
      "metadata": {
        "colab": {
          "base_uri": "https://localhost:8080/"
        },
        "id": "E-5koVZ_3pVR",
        "outputId": "2b52b244-1f35-4137-d3e8-957b327074ce"
      },
      "source": [
        "dict_result['Diferença de Óbitos 2020-2019'] = diff_sarg_2020_2019\n",
        "print(dict_result)"
      ],
      "execution_count": null,
      "outputs": [
        {
          "output_type": "stream",
          "text": [
            "{'Diferença de Óbitos 2020-2019': 296434}\n"
          ],
          "name": "stdout"
        }
      ]
    },
    {
      "cell_type": "markdown",
      "metadata": {
        "id": "Fr7z8b74V-8W"
      },
      "source": [
        "Óbitos por COVID-19 em 2020"
      ]
    },
    {
      "cell_type": "code",
      "metadata": {
        "id": "qOLBZwxwVXDP",
        "colab": {
          "base_uri": "https://localhost:8080/"
        },
        "outputId": "9a36e650-822c-4ab0-ef8f-b58600637f9f"
      },
      "source": [
        "n_obito_covid_2020 = pd_n_obito_sarg_2020.query('CLASSI_FIN == \"SRAG por COVID-19\"')['CLASSI_FIN'].count()\n",
        "print(n_obito_covid_2020)"
      ],
      "execution_count": null,
      "outputs": [
        {
          "output_type": "stream",
          "text": [
            "219843\n"
          ],
          "name": "stdout"
        }
      ]
    },
    {
      "cell_type": "markdown",
      "metadata": {
        "id": "AvAOglkbxHSH"
      },
      "source": [
        "Óbitos por SRAG, sem confirmação de covid-19 em 2020:"
      ]
    },
    {
      "cell_type": "code",
      "metadata": {
        "colab": {
          "base_uri": "https://localhost:8080/"
        },
        "id": "xWQXl4fFw48F",
        "outputId": "9f58a0de-3a6d-4b06-d465-463dba12f775"
      },
      "source": [
        "n_obito_sarg_sem_covid_2020 = n_obito_sarg_2020 - n_obito_covid_2020\n",
        "print(\"Óbitos por SRAG, sem confirmação de covid-19 em 2020:\", n_obito_sarg_sem_covid_2020)"
      ],
      "execution_count": null,
      "outputs": [
        {
          "output_type": "stream",
          "text": [
            "Óbitos por SRAG, sem confirmação de covid-19 em 2020: Óbito    81961\n",
            "Name: EVOLUCAO, dtype: int64\n"
          ],
          "name": "stdout"
        }
      ]
    },
    {
      "cell_type": "markdown",
      "metadata": {
        "id": "iWgrwE7IWOcf"
      },
      "source": [
        "Estimativa de Sub-notificação de COVID-19 em 2020.\n",
        "Diferença dos óbitos totais por SARG que **NÃO** foram identificados por **COVID-19**"
      ]
    },
    {
      "cell_type": "code",
      "metadata": {
        "colab": {
          "base_uri": "https://localhost:8080/"
        },
        "id": "xgBby8lIZTTv",
        "outputId": "084b0798-fd39-4fa2-da73-6a36c33e5c61"
      },
      "source": [
        "print(diff_sarg_2020_2019 - n_obito_covid_2020)"
      ],
      "execution_count": null,
      "outputs": [
        {
          "output_type": "stream",
          "text": [
            "76591\n"
          ],
          "name": "stdout"
        }
      ]
    },
    {
      "cell_type": "code",
      "metadata": {
        "colab": {
          "base_uri": "https://localhost:8080/"
        },
        "id": "aQ0LhSzbnXsB",
        "outputId": "990c5950-d4f7-4830-834f-6155a9214662"
      },
      "source": [
        "subnotificacao = ((diff_sarg_2020_2019 - n_obito_covid_2020) / (n_obito_covid_2020))*100\n",
        "print(\"Sub-notificação\", subnotificacao,\"%\")"
      ],
      "execution_count": null,
      "outputs": [
        {
          "output_type": "stream",
          "text": [
            "Sub-notificação 34.83895325300328 %\n"
          ],
          "name": "stdout"
        }
      ]
    },
    {
      "cell_type": "markdown",
      "metadata": {
        "id": "Y_apbIGIfnAE"
      },
      "source": [
        "Função para calcular a Sub-Notificação"
      ]
    },
    {
      "cell_type": "code",
      "metadata": {
        "id": "_GhyurmZfNbA"
      },
      "source": [
        "def calculaSubnotificacao(covid):\n",
        "  return print(\"Sub notificação\", covid+(covid*(subnotificacao)/100))"
      ],
      "execution_count": null,
      "outputs": []
    },
    {
      "cell_type": "code",
      "metadata": {
        "colab": {
          "base_uri": "https://localhost:8080/"
        },
        "id": "3yRFDW7UcUTL",
        "outputId": "b584e1bb-4f8c-4cd6-82a5-bb7218c88b88"
      },
      "source": [
        "calculaSubnotificacao(n_obito_covid_2020)"
      ],
      "execution_count": null,
      "outputs": [
        {
          "output_type": "stream",
          "text": [
            "Sub notificação 296434.0\n"
          ],
          "name": "stdout"
        }
      ]
    },
    {
      "cell_type": "markdown",
      "metadata": {
        "id": "r9rnWtyei6S8"
      },
      "source": [
        "### OpenDataSUS\n",
        "SRAG 2021 - Banco de Dados de Síndrome Respiratória Aguda Grave - incluindo dados da COVID-19\n",
        "Vigilância de Síndrome Respiratória Aguda Grave (SRAG)"
      ]
    },
    {
      "cell_type": "code",
      "metadata": {
        "colab": {
          "base_uri": "https://localhost:8080/"
        },
        "id": "-fZuxIJyjM5L",
        "outputId": "beb964ea-2651-46e8-a3f2-bcb511e79ab0"
      },
      "source": [
        "df_n_sarg_2021 = pd.read_csv('/content/drive/MyDrive/TADS - UFRN/2020.2/data_science/trab03/dataset/sarg_2021.csv', encoding='ISO-8859-1', delimiter=';', error_bad_lines=False)"
      ],
      "execution_count": null,
      "outputs": [
        {
          "output_type": "stream",
          "text": [
            "/usr/local/lib/python3.7/dist-packages/IPython/core/interactiveshell.py:2718: DtypeWarning: Columns (15,18,60,62,63,64,92,94,106,108,115,117,118,119,123,144) have mixed types.Specify dtype option on import or set low_memory=False.\n",
            "  interactivity=interactivity, compiler=compiler, result=result)\n"
          ],
          "name": "stderr"
        }
      ]
    },
    {
      "cell_type": "code",
      "metadata": {
        "colab": {
          "base_uri": "https://localhost:8080/"
        },
        "id": "i9KcGh-L3uvv",
        "outputId": "520d9d45-ac06-4949-f22a-e0fac6efae67"
      },
      "source": [
        "df_n_sarg_2021.groupby('EVOLUCAO').size().sort_values()"
      ],
      "execution_count": null,
      "outputs": [
        {
          "output_type": "execute_result",
          "data": {
            "text/plain": [
              "EVOLUCAO\n",
              "3.0      4906\n",
              "9.0     17116\n",
              "2.0    150248\n",
              "1.0    230198\n",
              "dtype: int64"
            ]
          },
          "metadata": {
            "tags": []
          },
          "execution_count": 90
        }
      ]
    },
    {
      "cell_type": "code",
      "metadata": {
        "id": "xpmWGux2sRmr"
      },
      "source": [
        "evolucao_caso = {1:'Cura', 2:'Óbito', \n",
        "                 3:'Óbito por outras causas', 9:'Ignorado'}\n",
        "classificacao_final = {1:'SRAG por influenza', 2:'SRAG por outro vírus respiratório',\n",
        "                       3:'SRAG por outro agente etiológico',\n",
        "                       4:'SRAG não especificado', 5:'SRAG por COVID-19'}"
      ],
      "execution_count": null,
      "outputs": []
    },
    {
      "cell_type": "code",
      "metadata": {
        "id": "0_X7aZDSmoiD"
      },
      "source": [
        "df_n_sarg_2021.loc[(df_n_sarg_2021.EVOLUCAO.isnull()), 'EVOLUCAO'] = 9\n",
        "df_n_sarg_2021.loc[(df_n_sarg_2021.CLASSI_FIN.isnull()), 'CLASSI_FIN'] = 3\n",
        "df_n_sarg_2021['EVOLUCAO'] = df_n_sarg_2021['EVOLUCAO'].apply(lambda x: evolucao_caso[x])\n",
        "df_n_sarg_2021['CLASSI_FIN'] = df_n_sarg_2021['CLASSI_FIN'].apply(lambda x: classificacao_final[x])"
      ],
      "execution_count": null,
      "outputs": []
    },
    {
      "cell_type": "code",
      "metadata": {
        "colab": {
          "base_uri": "https://localhost:8080/",
          "height": 830
        },
        "id": "P-2FPxQsmoiF",
        "outputId": "eb805caa-080f-4daf-de8a-5f03b5d5cc29"
      },
      "source": [
        "df_n_sarg_2021[:-1]"
      ],
      "execution_count": null,
      "outputs": [
        {
          "output_type": "execute_result",
          "data": {
            "text/html": [
              "<div>\n",
              "<style scoped>\n",
              "    .dataframe tbody tr th:only-of-type {\n",
              "        vertical-align: middle;\n",
              "    }\n",
              "\n",
              "    .dataframe tbody tr th {\n",
              "        vertical-align: top;\n",
              "    }\n",
              "\n",
              "    .dataframe thead th {\n",
              "        text-align: right;\n",
              "    }\n",
              "</style>\n",
              "<table border=\"1\" class=\"dataframe\">\n",
              "  <thead>\n",
              "    <tr style=\"text-align: right;\">\n",
              "      <th></th>\n",
              "      <th>DT_NOTIFIC</th>\n",
              "      <th>SEM_NOT</th>\n",
              "      <th>DT_SIN_PRI</th>\n",
              "      <th>SEM_PRI</th>\n",
              "      <th>SG_UF_NOT</th>\n",
              "      <th>ID_REGIONA</th>\n",
              "      <th>CO_REGIONA</th>\n",
              "      <th>ID_MUNICIP</th>\n",
              "      <th>CO_MUN_NOT</th>\n",
              "      <th>ID_UNIDADE</th>\n",
              "      <th>CO_UNI_NOT</th>\n",
              "      <th>CS_SEXO</th>\n",
              "      <th>DT_NASC</th>\n",
              "      <th>NU_IDADE_N</th>\n",
              "      <th>TP_IDADE</th>\n",
              "      <th>COD_IDADE</th>\n",
              "      <th>CS_GESTANT</th>\n",
              "      <th>CS_RACA</th>\n",
              "      <th>CS_ETINIA</th>\n",
              "      <th>CS_ESCOL_N</th>\n",
              "      <th>ID_PAIS</th>\n",
              "      <th>CO_PAIS</th>\n",
              "      <th>SG_UF</th>\n",
              "      <th>ID_RG_RESI</th>\n",
              "      <th>CO_RG_RESI</th>\n",
              "      <th>ID_MN_RESI</th>\n",
              "      <th>CO_MUN_RES</th>\n",
              "      <th>CS_ZONA</th>\n",
              "      <th>SURTO_SG</th>\n",
              "      <th>NOSOCOMIAL</th>\n",
              "      <th>AVE_SUINO</th>\n",
              "      <th>FEBRE</th>\n",
              "      <th>TOSSE</th>\n",
              "      <th>GARGANTA</th>\n",
              "      <th>DISPNEIA</th>\n",
              "      <th>DESC_RESP</th>\n",
              "      <th>SATURACAO</th>\n",
              "      <th>DIARREIA</th>\n",
              "      <th>VOMITO</th>\n",
              "      <th>OUTRO_SIN</th>\n",
              "      <th>...</th>\n",
              "      <th>HISTO_VGM</th>\n",
              "      <th>PAIS_VGM</th>\n",
              "      <th>CO_PS_VGM</th>\n",
              "      <th>LO_PS_VGM</th>\n",
              "      <th>DT_VGM</th>\n",
              "      <th>DT_RT_VGM</th>\n",
              "      <th>PCR_SARS2</th>\n",
              "      <th>PAC_COCBO</th>\n",
              "      <th>PAC_DSCBO</th>\n",
              "      <th>OUT_ANIM</th>\n",
              "      <th>DOR_ABD</th>\n",
              "      <th>FADIGA</th>\n",
              "      <th>PERD_OLFT</th>\n",
              "      <th>PERD_PALA</th>\n",
              "      <th>TOMO_RES</th>\n",
              "      <th>TOMO_OUT</th>\n",
              "      <th>DT_TOMO</th>\n",
              "      <th>TP_TES_AN</th>\n",
              "      <th>DT_RES_AN</th>\n",
              "      <th>RES_AN</th>\n",
              "      <th>POS_AN_FLU</th>\n",
              "      <th>TP_FLU_AN</th>\n",
              "      <th>POS_AN_OUT</th>\n",
              "      <th>AN_SARS2</th>\n",
              "      <th>AN_VSR</th>\n",
              "      <th>AN_PARA1</th>\n",
              "      <th>AN_PARA2</th>\n",
              "      <th>AN_PARA3</th>\n",
              "      <th>AN_ADENO</th>\n",
              "      <th>AN_OUTRO</th>\n",
              "      <th>DS_AN_OUT</th>\n",
              "      <th>TP_AM_SOR</th>\n",
              "      <th>SOR_OUT</th>\n",
              "      <th>DT_CO_SOR</th>\n",
              "      <th>TP_SOR</th>\n",
              "      <th>OUT_SOR</th>\n",
              "      <th>DT_RES</th>\n",
              "      <th>RES_IGG</th>\n",
              "      <th>RES_IGM</th>\n",
              "      <th>RES_IGA</th>\n",
              "    </tr>\n",
              "  </thead>\n",
              "  <tbody>\n",
              "    <tr>\n",
              "      <th>0</th>\n",
              "      <td>05/01/2021</td>\n",
              "      <td>1</td>\n",
              "      <td>04/01/2021</td>\n",
              "      <td>1</td>\n",
              "      <td>CE</td>\n",
              "      <td>11 CRES SOBRAL</td>\n",
              "      <td>1521.0</td>\n",
              "      <td>SOBRAL</td>\n",
              "      <td>231290</td>\n",
              "      <td>HOSPITAL REGIONAL NORTE</td>\n",
              "      <td>6848710</td>\n",
              "      <td>M</td>\n",
              "      <td>30/06/1956</td>\n",
              "      <td>64</td>\n",
              "      <td>3</td>\n",
              "      <td>3064</td>\n",
              "      <td>6</td>\n",
              "      <td>9</td>\n",
              "      <td>NaN</td>\n",
              "      <td>NaN</td>\n",
              "      <td>BRASIL</td>\n",
              "      <td>1</td>\n",
              "      <td>CE</td>\n",
              "      <td>11 CRES SOBRAL</td>\n",
              "      <td>1521.0</td>\n",
              "      <td>SOBRAL</td>\n",
              "      <td>231290.0</td>\n",
              "      <td>NaN</td>\n",
              "      <td>NaN</td>\n",
              "      <td>NaN</td>\n",
              "      <td>NaN</td>\n",
              "      <td>NaN</td>\n",
              "      <td>1.0</td>\n",
              "      <td>NaN</td>\n",
              "      <td>NaN</td>\n",
              "      <td>1.0</td>\n",
              "      <td>NaN</td>\n",
              "      <td>NaN</td>\n",
              "      <td>NaN</td>\n",
              "      <td>NaN</td>\n",
              "      <td>...</td>\n",
              "      <td>0</td>\n",
              "      <td>NaN</td>\n",
              "      <td>NaN</td>\n",
              "      <td>NaN</td>\n",
              "      <td>NaN</td>\n",
              "      <td>NaN</td>\n",
              "      <td>1.0</td>\n",
              "      <td>NaN</td>\n",
              "      <td>NaN</td>\n",
              "      <td>NaN</td>\n",
              "      <td>NaN</td>\n",
              "      <td>NaN</td>\n",
              "      <td>NaN</td>\n",
              "      <td>NaN</td>\n",
              "      <td>NaN</td>\n",
              "      <td>NaN</td>\n",
              "      <td>NaN</td>\n",
              "      <td>NaN</td>\n",
              "      <td>NaN</td>\n",
              "      <td>5.0</td>\n",
              "      <td>NaN</td>\n",
              "      <td>NaN</td>\n",
              "      <td>NaN</td>\n",
              "      <td>NaN</td>\n",
              "      <td>NaN</td>\n",
              "      <td>NaN</td>\n",
              "      <td>NaN</td>\n",
              "      <td>NaN</td>\n",
              "      <td>NaN</td>\n",
              "      <td>NaN</td>\n",
              "      <td>NaN</td>\n",
              "      <td>NaN</td>\n",
              "      <td>NaN</td>\n",
              "      <td>NaN</td>\n",
              "      <td>NaN</td>\n",
              "      <td>NaN</td>\n",
              "      <td>NaN</td>\n",
              "      <td>NaN</td>\n",
              "      <td>NaN</td>\n",
              "      <td>NaN</td>\n",
              "    </tr>\n",
              "    <tr>\n",
              "      <th>1</th>\n",
              "      <td>14/04/2021</td>\n",
              "      <td>15</td>\n",
              "      <td>12/04/2021</td>\n",
              "      <td>15</td>\n",
              "      <td>BA</td>\n",
              "      <td>NUCLEO REGIONAL DE SAUDE LESTE</td>\n",
              "      <td>1380.0</td>\n",
              "      <td>SALVADOR</td>\n",
              "      <td>292740</td>\n",
              "      <td>HOSPITAL DA BAHIA</td>\n",
              "      <td>3827992</td>\n",
              "      <td>M</td>\n",
              "      <td>13/06/1933</td>\n",
              "      <td>87</td>\n",
              "      <td>3</td>\n",
              "      <td>3087</td>\n",
              "      <td>6</td>\n",
              "      <td>4</td>\n",
              "      <td>NaN</td>\n",
              "      <td>9.0</td>\n",
              "      <td>BRASIL</td>\n",
              "      <td>1</td>\n",
              "      <td>BA</td>\n",
              "      <td>NUCLEO REGIONAL DE SAUDE LESTE</td>\n",
              "      <td>1380.0</td>\n",
              "      <td>SALVADOR</td>\n",
              "      <td>292740.0</td>\n",
              "      <td>1.0</td>\n",
              "      <td>NaN</td>\n",
              "      <td>1.0</td>\n",
              "      <td>2.0</td>\n",
              "      <td>1.0</td>\n",
              "      <td>2.0</td>\n",
              "      <td>2.0</td>\n",
              "      <td>2.0</td>\n",
              "      <td>2.0</td>\n",
              "      <td>2.0</td>\n",
              "      <td>2.0</td>\n",
              "      <td>2.0</td>\n",
              "      <td>2.0</td>\n",
              "      <td>...</td>\n",
              "      <td>0</td>\n",
              "      <td>NaN</td>\n",
              "      <td>NaN</td>\n",
              "      <td>NaN</td>\n",
              "      <td>NaN</td>\n",
              "      <td>NaN</td>\n",
              "      <td>NaN</td>\n",
              "      <td>NaN</td>\n",
              "      <td>NaN</td>\n",
              "      <td>NaN</td>\n",
              "      <td>2.0</td>\n",
              "      <td>2.0</td>\n",
              "      <td>2.0</td>\n",
              "      <td>2.0</td>\n",
              "      <td>6.0</td>\n",
              "      <td>NaN</td>\n",
              "      <td>NaN</td>\n",
              "      <td>NaN</td>\n",
              "      <td>NaN</td>\n",
              "      <td>NaN</td>\n",
              "      <td>NaN</td>\n",
              "      <td>NaN</td>\n",
              "      <td>NaN</td>\n",
              "      <td>NaN</td>\n",
              "      <td>NaN</td>\n",
              "      <td>NaN</td>\n",
              "      <td>NaN</td>\n",
              "      <td>NaN</td>\n",
              "      <td>NaN</td>\n",
              "      <td>NaN</td>\n",
              "      <td>NaN</td>\n",
              "      <td>NaN</td>\n",
              "      <td>NaN</td>\n",
              "      <td>NaN</td>\n",
              "      <td>NaN</td>\n",
              "      <td>NaN</td>\n",
              "      <td>NaN</td>\n",
              "      <td>NaN</td>\n",
              "      <td>NaN</td>\n",
              "      <td>NaN</td>\n",
              "    </tr>\n",
              "    <tr>\n",
              "      <th>2</th>\n",
              "      <td>04/01/2021</td>\n",
              "      <td>1</td>\n",
              "      <td>03/01/2021</td>\n",
              "      <td>1</td>\n",
              "      <td>MS</td>\n",
              "      <td>EX ARS DE CAMPO GRANDE</td>\n",
              "      <td>1975.0</td>\n",
              "      <td>CAMPO GRANDE</td>\n",
              "      <td>500270</td>\n",
              "      <td>HOSPITAL SAO JULIAO CEDAMI CASA VOVO TULIA</td>\n",
              "      <td>9733</td>\n",
              "      <td>M</td>\n",
              "      <td>07/10/1924</td>\n",
              "      <td>96</td>\n",
              "      <td>3</td>\n",
              "      <td>3096</td>\n",
              "      <td>6</td>\n",
              "      <td>1</td>\n",
              "      <td>NaN</td>\n",
              "      <td>1.0</td>\n",
              "      <td>BRASIL</td>\n",
              "      <td>1</td>\n",
              "      <td>MS</td>\n",
              "      <td>EX ARS DE CAMPO GRANDE</td>\n",
              "      <td>1975.0</td>\n",
              "      <td>CAMPO GRANDE</td>\n",
              "      <td>500270.0</td>\n",
              "      <td>1.0</td>\n",
              "      <td>NaN</td>\n",
              "      <td>9.0</td>\n",
              "      <td>2.0</td>\n",
              "      <td>2.0</td>\n",
              "      <td>2.0</td>\n",
              "      <td>2.0</td>\n",
              "      <td>1.0</td>\n",
              "      <td>1.0</td>\n",
              "      <td>1.0</td>\n",
              "      <td>2.0</td>\n",
              "      <td>2.0</td>\n",
              "      <td>2.0</td>\n",
              "      <td>...</td>\n",
              "      <td>0</td>\n",
              "      <td>NaN</td>\n",
              "      <td>NaN</td>\n",
              "      <td>NaN</td>\n",
              "      <td>NaN</td>\n",
              "      <td>NaN</td>\n",
              "      <td>NaN</td>\n",
              "      <td>NaN</td>\n",
              "      <td>NaN</td>\n",
              "      <td>NaN</td>\n",
              "      <td>2.0</td>\n",
              "      <td>2.0</td>\n",
              "      <td>2.0</td>\n",
              "      <td>2.0</td>\n",
              "      <td>NaN</td>\n",
              "      <td>NaN</td>\n",
              "      <td>NaN</td>\n",
              "      <td>NaN</td>\n",
              "      <td>NaN</td>\n",
              "      <td>5.0</td>\n",
              "      <td>NaN</td>\n",
              "      <td>NaN</td>\n",
              "      <td>NaN</td>\n",
              "      <td>NaN</td>\n",
              "      <td>NaN</td>\n",
              "      <td>NaN</td>\n",
              "      <td>NaN</td>\n",
              "      <td>NaN</td>\n",
              "      <td>NaN</td>\n",
              "      <td>NaN</td>\n",
              "      <td>NaN</td>\n",
              "      <td>1.0</td>\n",
              "      <td>NaN</td>\n",
              "      <td>04/01/2021</td>\n",
              "      <td>1.0</td>\n",
              "      <td>NaN</td>\n",
              "      <td>04/01/2021</td>\n",
              "      <td>2.0</td>\n",
              "      <td>2.0</td>\n",
              "      <td>NaN</td>\n",
              "    </tr>\n",
              "    <tr>\n",
              "      <th>3</th>\n",
              "      <td>05/01/2021</td>\n",
              "      <td>1</td>\n",
              "      <td>05/01/2021</td>\n",
              "      <td>1</td>\n",
              "      <td>MG</td>\n",
              "      <td>BELO HORIZONTE</td>\n",
              "      <td>1449.0</td>\n",
              "      <td>BELO HORIZONTE</td>\n",
              "      <td>310620</td>\n",
              "      <td>HOSPITAL SOFIA FELDMAN</td>\n",
              "      <td>26794</td>\n",
              "      <td>M</td>\n",
              "      <td>26/11/1988</td>\n",
              "      <td>32</td>\n",
              "      <td>3</td>\n",
              "      <td>3032</td>\n",
              "      <td>6</td>\n",
              "      <td>1</td>\n",
              "      <td>NaN</td>\n",
              "      <td>NaN</td>\n",
              "      <td>BRASIL</td>\n",
              "      <td>1</td>\n",
              "      <td>MG</td>\n",
              "      <td>BELO HORIZONTE</td>\n",
              "      <td>1449.0</td>\n",
              "      <td>BETIM</td>\n",
              "      <td>310670.0</td>\n",
              "      <td>1.0</td>\n",
              "      <td>2.0</td>\n",
              "      <td>2.0</td>\n",
              "      <td>2.0</td>\n",
              "      <td>1.0</td>\n",
              "      <td>2.0</td>\n",
              "      <td>2.0</td>\n",
              "      <td>2.0</td>\n",
              "      <td>2.0</td>\n",
              "      <td>2.0</td>\n",
              "      <td>2.0</td>\n",
              "      <td>2.0</td>\n",
              "      <td>1.0</td>\n",
              "      <td>...</td>\n",
              "      <td>2</td>\n",
              "      <td>NaN</td>\n",
              "      <td>NaN</td>\n",
              "      <td>NaN</td>\n",
              "      <td>NaN</td>\n",
              "      <td>NaN</td>\n",
              "      <td>NaN</td>\n",
              "      <td>NaN</td>\n",
              "      <td>NaN</td>\n",
              "      <td>NaN</td>\n",
              "      <td>2.0</td>\n",
              "      <td>2.0</td>\n",
              "      <td>2.0</td>\n",
              "      <td>2.0</td>\n",
              "      <td>NaN</td>\n",
              "      <td>NaN</td>\n",
              "      <td>NaN</td>\n",
              "      <td>NaN</td>\n",
              "      <td>NaN</td>\n",
              "      <td>NaN</td>\n",
              "      <td>NaN</td>\n",
              "      <td>NaN</td>\n",
              "      <td>NaN</td>\n",
              "      <td>NaN</td>\n",
              "      <td>NaN</td>\n",
              "      <td>NaN</td>\n",
              "      <td>NaN</td>\n",
              "      <td>NaN</td>\n",
              "      <td>NaN</td>\n",
              "      <td>NaN</td>\n",
              "      <td>NaN</td>\n",
              "      <td>NaN</td>\n",
              "      <td>NaN</td>\n",
              "      <td>NaN</td>\n",
              "      <td>NaN</td>\n",
              "      <td>NaN</td>\n",
              "      <td>NaN</td>\n",
              "      <td>NaN</td>\n",
              "      <td>NaN</td>\n",
              "      <td>NaN</td>\n",
              "    </tr>\n",
              "    <tr>\n",
              "      <th>4</th>\n",
              "      <td>06/01/2021</td>\n",
              "      <td>1</td>\n",
              "      <td>04/01/2021</td>\n",
              "      <td>1</td>\n",
              "      <td>PR</td>\n",
              "      <td>02RS METROPOLITANA</td>\n",
              "      <td>1356.0</td>\n",
              "      <td>CURITIBA</td>\n",
              "      <td>410690</td>\n",
              "      <td>HOSPITAL PILAR</td>\n",
              "      <td>3000885</td>\n",
              "      <td>M</td>\n",
              "      <td>19/10/1928</td>\n",
              "      <td>92</td>\n",
              "      <td>3</td>\n",
              "      <td>3092</td>\n",
              "      <td>6</td>\n",
              "      <td>1</td>\n",
              "      <td>NaN</td>\n",
              "      <td>9.0</td>\n",
              "      <td>BRASIL</td>\n",
              "      <td>1</td>\n",
              "      <td>PR</td>\n",
              "      <td>02RS METROPOLITANA</td>\n",
              "      <td>1356.0</td>\n",
              "      <td>CURITIBA</td>\n",
              "      <td>410690.0</td>\n",
              "      <td>1.0</td>\n",
              "      <td>1.0</td>\n",
              "      <td>2.0</td>\n",
              "      <td>2.0</td>\n",
              "      <td>1.0</td>\n",
              "      <td>1.0</td>\n",
              "      <td>2.0</td>\n",
              "      <td>2.0</td>\n",
              "      <td>1.0</td>\n",
              "      <td>1.0</td>\n",
              "      <td>2.0</td>\n",
              "      <td>2.0</td>\n",
              "      <td>2.0</td>\n",
              "      <td>...</td>\n",
              "      <td>2</td>\n",
              "      <td>NaN</td>\n",
              "      <td>NaN</td>\n",
              "      <td>NaN</td>\n",
              "      <td>NaN</td>\n",
              "      <td>NaN</td>\n",
              "      <td>1.0</td>\n",
              "      <td>NaN</td>\n",
              "      <td>NaN</td>\n",
              "      <td>NaN</td>\n",
              "      <td>2.0</td>\n",
              "      <td>2.0</td>\n",
              "      <td>2.0</td>\n",
              "      <td>2.0</td>\n",
              "      <td>1.0</td>\n",
              "      <td>NaN</td>\n",
              "      <td>05/01/2021</td>\n",
              "      <td>NaN</td>\n",
              "      <td>NaN</td>\n",
              "      <td>4.0</td>\n",
              "      <td>NaN</td>\n",
              "      <td>NaN</td>\n",
              "      <td>NaN</td>\n",
              "      <td>NaN</td>\n",
              "      <td>NaN</td>\n",
              "      <td>NaN</td>\n",
              "      <td>NaN</td>\n",
              "      <td>NaN</td>\n",
              "      <td>NaN</td>\n",
              "      <td>NaN</td>\n",
              "      <td>NaN</td>\n",
              "      <td>NaN</td>\n",
              "      <td>NaN</td>\n",
              "      <td>NaN</td>\n",
              "      <td>NaN</td>\n",
              "      <td>NaN</td>\n",
              "      <td>NaN</td>\n",
              "      <td>NaN</td>\n",
              "      <td>NaN</td>\n",
              "      <td>NaN</td>\n",
              "    </tr>\n",
              "    <tr>\n",
              "      <th>...</th>\n",
              "      <td>...</td>\n",
              "      <td>...</td>\n",
              "      <td>...</td>\n",
              "      <td>...</td>\n",
              "      <td>...</td>\n",
              "      <td>...</td>\n",
              "      <td>...</td>\n",
              "      <td>...</td>\n",
              "      <td>...</td>\n",
              "      <td>...</td>\n",
              "      <td>...</td>\n",
              "      <td>...</td>\n",
              "      <td>...</td>\n",
              "      <td>...</td>\n",
              "      <td>...</td>\n",
              "      <td>...</td>\n",
              "      <td>...</td>\n",
              "      <td>...</td>\n",
              "      <td>...</td>\n",
              "      <td>...</td>\n",
              "      <td>...</td>\n",
              "      <td>...</td>\n",
              "      <td>...</td>\n",
              "      <td>...</td>\n",
              "      <td>...</td>\n",
              "      <td>...</td>\n",
              "      <td>...</td>\n",
              "      <td>...</td>\n",
              "      <td>...</td>\n",
              "      <td>...</td>\n",
              "      <td>...</td>\n",
              "      <td>...</td>\n",
              "      <td>...</td>\n",
              "      <td>...</td>\n",
              "      <td>...</td>\n",
              "      <td>...</td>\n",
              "      <td>...</td>\n",
              "      <td>...</td>\n",
              "      <td>...</td>\n",
              "      <td>...</td>\n",
              "      <td>...</td>\n",
              "      <td>...</td>\n",
              "      <td>...</td>\n",
              "      <td>...</td>\n",
              "      <td>...</td>\n",
              "      <td>...</td>\n",
              "      <td>...</td>\n",
              "      <td>...</td>\n",
              "      <td>...</td>\n",
              "      <td>...</td>\n",
              "      <td>...</td>\n",
              "      <td>...</td>\n",
              "      <td>...</td>\n",
              "      <td>...</td>\n",
              "      <td>...</td>\n",
              "      <td>...</td>\n",
              "      <td>...</td>\n",
              "      <td>...</td>\n",
              "      <td>...</td>\n",
              "      <td>...</td>\n",
              "      <td>...</td>\n",
              "      <td>...</td>\n",
              "      <td>...</td>\n",
              "      <td>...</td>\n",
              "      <td>...</td>\n",
              "      <td>...</td>\n",
              "      <td>...</td>\n",
              "      <td>...</td>\n",
              "      <td>...</td>\n",
              "      <td>...</td>\n",
              "      <td>...</td>\n",
              "      <td>...</td>\n",
              "      <td>...</td>\n",
              "      <td>...</td>\n",
              "      <td>...</td>\n",
              "      <td>...</td>\n",
              "      <td>...</td>\n",
              "      <td>...</td>\n",
              "      <td>...</td>\n",
              "      <td>...</td>\n",
              "      <td>...</td>\n",
              "    </tr>\n",
              "    <tr>\n",
              "      <th>605847</th>\n",
              "      <td>17/04/2021</td>\n",
              "      <td>15</td>\n",
              "      <td>03/04/2021</td>\n",
              "      <td>13</td>\n",
              "      <td>RO</td>\n",
              "      <td>VI DRS PORTO VELHO</td>\n",
              "      <td>1483.0</td>\n",
              "      <td>PORTO VELHO</td>\n",
              "      <td>110020</td>\n",
              "      <td>HOSPITAL DE CAMPANHA DE RONDONIA</td>\n",
              "      <td>213837</td>\n",
              "      <td>F</td>\n",
              "      <td>01/03/1970</td>\n",
              "      <td>51</td>\n",
              "      <td>3</td>\n",
              "      <td>3051</td>\n",
              "      <td>5</td>\n",
              "      <td>4</td>\n",
              "      <td>NaN</td>\n",
              "      <td>4.0</td>\n",
              "      <td>BRASIL</td>\n",
              "      <td>1</td>\n",
              "      <td>RO</td>\n",
              "      <td>VI DRS PORTO VELHO</td>\n",
              "      <td>1483.0</td>\n",
              "      <td>PORTO VELHO</td>\n",
              "      <td>110020.0</td>\n",
              "      <td>1.0</td>\n",
              "      <td>NaN</td>\n",
              "      <td>2.0</td>\n",
              "      <td>2.0</td>\n",
              "      <td>1.0</td>\n",
              "      <td>1.0</td>\n",
              "      <td>2.0</td>\n",
              "      <td>1.0</td>\n",
              "      <td>1.0</td>\n",
              "      <td>2.0</td>\n",
              "      <td>2.0</td>\n",
              "      <td>2.0</td>\n",
              "      <td>2.0</td>\n",
              "      <td>...</td>\n",
              "      <td>0</td>\n",
              "      <td>NaN</td>\n",
              "      <td>NaN</td>\n",
              "      <td>NaN</td>\n",
              "      <td>NaN</td>\n",
              "      <td>NaN</td>\n",
              "      <td>NaN</td>\n",
              "      <td>142105</td>\n",
              "      <td>GERENTE ADMINISTRATIVO</td>\n",
              "      <td>NaN</td>\n",
              "      <td>2.0</td>\n",
              "      <td>2.0</td>\n",
              "      <td>2.0</td>\n",
              "      <td>2.0</td>\n",
              "      <td>NaN</td>\n",
              "      <td>NaN</td>\n",
              "      <td>NaN</td>\n",
              "      <td>2.0</td>\n",
              "      <td>05/04/2021</td>\n",
              "      <td>1.0</td>\n",
              "      <td>2.0</td>\n",
              "      <td>NaN</td>\n",
              "      <td>1.0</td>\n",
              "      <td>1.0</td>\n",
              "      <td>NaN</td>\n",
              "      <td>NaN</td>\n",
              "      <td>NaN</td>\n",
              "      <td>NaN</td>\n",
              "      <td>NaN</td>\n",
              "      <td>NaN</td>\n",
              "      <td>NaN</td>\n",
              "      <td>NaN</td>\n",
              "      <td>NaN</td>\n",
              "      <td>NaN</td>\n",
              "      <td>NaN</td>\n",
              "      <td>NaN</td>\n",
              "      <td>NaN</td>\n",
              "      <td>NaN</td>\n",
              "      <td>NaN</td>\n",
              "      <td>NaN</td>\n",
              "    </tr>\n",
              "    <tr>\n",
              "      <th>605848</th>\n",
              "      <td>04/04/2021</td>\n",
              "      <td>14</td>\n",
              "      <td>01/04/2021</td>\n",
              "      <td>13</td>\n",
              "      <td>RJ</td>\n",
              "      <td>NaN</td>\n",
              "      <td>NaN</td>\n",
              "      <td>SAO GONCALO</td>\n",
              "      <td>330490</td>\n",
              "      <td>HOSPITAL FRANCISCANO</td>\n",
              "      <td>113891</td>\n",
              "      <td>M</td>\n",
              "      <td>01/04/1962</td>\n",
              "      <td>59</td>\n",
              "      <td>3</td>\n",
              "      <td>3059</td>\n",
              "      <td>6</td>\n",
              "      <td>4</td>\n",
              "      <td>NaN</td>\n",
              "      <td>1.0</td>\n",
              "      <td>BRASIL</td>\n",
              "      <td>1</td>\n",
              "      <td>RJ</td>\n",
              "      <td>NaN</td>\n",
              "      <td>NaN</td>\n",
              "      <td>SAO GONCALO</td>\n",
              "      <td>330490.0</td>\n",
              "      <td>1.0</td>\n",
              "      <td>NaN</td>\n",
              "      <td>2.0</td>\n",
              "      <td>2.0</td>\n",
              "      <td>1.0</td>\n",
              "      <td>1.0</td>\n",
              "      <td>NaN</td>\n",
              "      <td>1.0</td>\n",
              "      <td>1.0</td>\n",
              "      <td>1.0</td>\n",
              "      <td>NaN</td>\n",
              "      <td>NaN</td>\n",
              "      <td>NaN</td>\n",
              "      <td>...</td>\n",
              "      <td>0</td>\n",
              "      <td>NaN</td>\n",
              "      <td>NaN</td>\n",
              "      <td>NaN</td>\n",
              "      <td>NaN</td>\n",
              "      <td>NaN</td>\n",
              "      <td>1.0</td>\n",
              "      <td>NaN</td>\n",
              "      <td>NaN</td>\n",
              "      <td>NaN</td>\n",
              "      <td>NaN</td>\n",
              "      <td>NaN</td>\n",
              "      <td>NaN</td>\n",
              "      <td>NaN</td>\n",
              "      <td>9.0</td>\n",
              "      <td>NaN</td>\n",
              "      <td>NaN</td>\n",
              "      <td>NaN</td>\n",
              "      <td>NaN</td>\n",
              "      <td>5.0</td>\n",
              "      <td>NaN</td>\n",
              "      <td>NaN</td>\n",
              "      <td>NaN</td>\n",
              "      <td>NaN</td>\n",
              "      <td>NaN</td>\n",
              "      <td>NaN</td>\n",
              "      <td>NaN</td>\n",
              "      <td>NaN</td>\n",
              "      <td>NaN</td>\n",
              "      <td>NaN</td>\n",
              "      <td>NaN</td>\n",
              "      <td>NaN</td>\n",
              "      <td>NaN</td>\n",
              "      <td>NaN</td>\n",
              "      <td>NaN</td>\n",
              "      <td>NaN</td>\n",
              "      <td>NaN</td>\n",
              "      <td>NaN</td>\n",
              "      <td>NaN</td>\n",
              "      <td>NaN</td>\n",
              "    </tr>\n",
              "    <tr>\n",
              "      <th>605849</th>\n",
              "      <td>16/04/2021</td>\n",
              "      <td>15</td>\n",
              "      <td>14/04/2021</td>\n",
              "      <td>15</td>\n",
              "      <td>MS</td>\n",
              "      <td>EX NRS DE CORUMBA</td>\n",
              "      <td>6256.0</td>\n",
              "      <td>CORUMBA</td>\n",
              "      <td>500320</td>\n",
              "      <td>PRONTO SOCORRO MUNICIPAL DE CORUMBA</td>\n",
              "      <td>2558815</td>\n",
              "      <td>M</td>\n",
              "      <td>30/03/1989</td>\n",
              "      <td>32</td>\n",
              "      <td>3</td>\n",
              "      <td>3032</td>\n",
              "      <td>6</td>\n",
              "      <td>4</td>\n",
              "      <td>NaN</td>\n",
              "      <td>NaN</td>\n",
              "      <td>BRASIL</td>\n",
              "      <td>1</td>\n",
              "      <td>MS</td>\n",
              "      <td>EX NRS DE CORUMBA</td>\n",
              "      <td>6256.0</td>\n",
              "      <td>CORUMBA</td>\n",
              "      <td>500320.0</td>\n",
              "      <td>1.0</td>\n",
              "      <td>NaN</td>\n",
              "      <td>2.0</td>\n",
              "      <td>2.0</td>\n",
              "      <td>2.0</td>\n",
              "      <td>1.0</td>\n",
              "      <td>2.0</td>\n",
              "      <td>1.0</td>\n",
              "      <td>1.0</td>\n",
              "      <td>2.0</td>\n",
              "      <td>2.0</td>\n",
              "      <td>2.0</td>\n",
              "      <td>2.0</td>\n",
              "      <td>...</td>\n",
              "      <td>0</td>\n",
              "      <td>NaN</td>\n",
              "      <td>NaN</td>\n",
              "      <td>NaN</td>\n",
              "      <td>NaN</td>\n",
              "      <td>NaN</td>\n",
              "      <td>NaN</td>\n",
              "      <td>NaN</td>\n",
              "      <td>NaN</td>\n",
              "      <td>NaN</td>\n",
              "      <td>2.0</td>\n",
              "      <td>1.0</td>\n",
              "      <td>2.0</td>\n",
              "      <td>2.0</td>\n",
              "      <td>1.0</td>\n",
              "      <td>NaN</td>\n",
              "      <td>16/04/2021</td>\n",
              "      <td>NaN</td>\n",
              "      <td>NaN</td>\n",
              "      <td>5.0</td>\n",
              "      <td>NaN</td>\n",
              "      <td>NaN</td>\n",
              "      <td>NaN</td>\n",
              "      <td>NaN</td>\n",
              "      <td>NaN</td>\n",
              "      <td>NaN</td>\n",
              "      <td>NaN</td>\n",
              "      <td>NaN</td>\n",
              "      <td>NaN</td>\n",
              "      <td>NaN</td>\n",
              "      <td>NaN</td>\n",
              "      <td>NaN</td>\n",
              "      <td>NaN</td>\n",
              "      <td>NaN</td>\n",
              "      <td>NaN</td>\n",
              "      <td>NaN</td>\n",
              "      <td>NaN</td>\n",
              "      <td>NaN</td>\n",
              "      <td>NaN</td>\n",
              "      <td>NaN</td>\n",
              "    </tr>\n",
              "    <tr>\n",
              "      <th>605850</th>\n",
              "      <td>17/04/2021</td>\n",
              "      <td>15</td>\n",
              "      <td>05/04/2021</td>\n",
              "      <td>14</td>\n",
              "      <td>SP</td>\n",
              "      <td>GVE I CAPITAL</td>\n",
              "      <td>1331.0</td>\n",
              "      <td>SAO PAULO</td>\n",
              "      <td>355030</td>\n",
              "      <td>UNIDADE DE PRONTO ATENDIMENTO CAMPO LIMPO DR F...</td>\n",
              "      <td>7479387</td>\n",
              "      <td>F</td>\n",
              "      <td>26/03/1968</td>\n",
              "      <td>53</td>\n",
              "      <td>3</td>\n",
              "      <td>3053</td>\n",
              "      <td>5</td>\n",
              "      <td>4</td>\n",
              "      <td>NaN</td>\n",
              "      <td>NaN</td>\n",
              "      <td>BRASIL</td>\n",
              "      <td>1</td>\n",
              "      <td>SP</td>\n",
              "      <td>GVE I CAPITAL</td>\n",
              "      <td>1331.0</td>\n",
              "      <td>SAO PAULO</td>\n",
              "      <td>355030.0</td>\n",
              "      <td>1.0</td>\n",
              "      <td>NaN</td>\n",
              "      <td>2.0</td>\n",
              "      <td>2.0</td>\n",
              "      <td>1.0</td>\n",
              "      <td>1.0</td>\n",
              "      <td>NaN</td>\n",
              "      <td>1.0</td>\n",
              "      <td>1.0</td>\n",
              "      <td>1.0</td>\n",
              "      <td>NaN</td>\n",
              "      <td>NaN</td>\n",
              "      <td>1.0</td>\n",
              "      <td>...</td>\n",
              "      <td>0</td>\n",
              "      <td>NaN</td>\n",
              "      <td>NaN</td>\n",
              "      <td>NaN</td>\n",
              "      <td>NaN</td>\n",
              "      <td>NaN</td>\n",
              "      <td>1.0</td>\n",
              "      <td>NaN</td>\n",
              "      <td>NaN</td>\n",
              "      <td>NaN</td>\n",
              "      <td>NaN</td>\n",
              "      <td>NaN</td>\n",
              "      <td>NaN</td>\n",
              "      <td>NaN</td>\n",
              "      <td>NaN</td>\n",
              "      <td>NaN</td>\n",
              "      <td>NaN</td>\n",
              "      <td>NaN</td>\n",
              "      <td>NaN</td>\n",
              "      <td>5.0</td>\n",
              "      <td>NaN</td>\n",
              "      <td>NaN</td>\n",
              "      <td>NaN</td>\n",
              "      <td>NaN</td>\n",
              "      <td>NaN</td>\n",
              "      <td>NaN</td>\n",
              "      <td>NaN</td>\n",
              "      <td>NaN</td>\n",
              "      <td>NaN</td>\n",
              "      <td>NaN</td>\n",
              "      <td>NaN</td>\n",
              "      <td>NaN</td>\n",
              "      <td>NaN</td>\n",
              "      <td>NaN</td>\n",
              "      <td>NaN</td>\n",
              "      <td>NaN</td>\n",
              "      <td>NaN</td>\n",
              "      <td>NaN</td>\n",
              "      <td>NaN</td>\n",
              "      <td>NaN</td>\n",
              "    </tr>\n",
              "    <tr>\n",
              "      <th>605851</th>\n",
              "      <td>17/04/2021</td>\n",
              "      <td>15</td>\n",
              "      <td>10/04/2021</td>\n",
              "      <td>14</td>\n",
              "      <td>RS</td>\n",
              "      <td>003 CRS</td>\n",
              "      <td>1593.0</td>\n",
              "      <td>PELOTAS</td>\n",
              "      <td>431440</td>\n",
              "      <td>SOCIEDADE PORTUGUESA DE BENEFICENCIA</td>\n",
              "      <td>2252295</td>\n",
              "      <td>M</td>\n",
              "      <td>09/09/1958</td>\n",
              "      <td>62</td>\n",
              "      <td>3</td>\n",
              "      <td>3062</td>\n",
              "      <td>6</td>\n",
              "      <td>1</td>\n",
              "      <td>NaN</td>\n",
              "      <td>1.0</td>\n",
              "      <td>BRASIL</td>\n",
              "      <td>1</td>\n",
              "      <td>RS</td>\n",
              "      <td>003 CRS</td>\n",
              "      <td>1593.0</td>\n",
              "      <td>PELOTAS</td>\n",
              "      <td>431440.0</td>\n",
              "      <td>1.0</td>\n",
              "      <td>NaN</td>\n",
              "      <td>2.0</td>\n",
              "      <td>2.0</td>\n",
              "      <td>1.0</td>\n",
              "      <td>2.0</td>\n",
              "      <td>2.0</td>\n",
              "      <td>1.0</td>\n",
              "      <td>1.0</td>\n",
              "      <td>1.0</td>\n",
              "      <td>1.0</td>\n",
              "      <td>2.0</td>\n",
              "      <td>2.0</td>\n",
              "      <td>...</td>\n",
              "      <td>0</td>\n",
              "      <td>NaN</td>\n",
              "      <td>NaN</td>\n",
              "      <td>NaN</td>\n",
              "      <td>NaN</td>\n",
              "      <td>NaN</td>\n",
              "      <td>NaN</td>\n",
              "      <td>NaN</td>\n",
              "      <td>NaN</td>\n",
              "      <td>NaN</td>\n",
              "      <td>2.0</td>\n",
              "      <td>1.0</td>\n",
              "      <td>2.0</td>\n",
              "      <td>2.0</td>\n",
              "      <td>6.0</td>\n",
              "      <td>NaN</td>\n",
              "      <td>NaN</td>\n",
              "      <td>2.0</td>\n",
              "      <td>16/04/2021</td>\n",
              "      <td>1.0</td>\n",
              "      <td>NaN</td>\n",
              "      <td>NaN</td>\n",
              "      <td>1.0</td>\n",
              "      <td>1.0</td>\n",
              "      <td>NaN</td>\n",
              "      <td>NaN</td>\n",
              "      <td>NaN</td>\n",
              "      <td>NaN</td>\n",
              "      <td>NaN</td>\n",
              "      <td>NaN</td>\n",
              "      <td>NaN</td>\n",
              "      <td>NaN</td>\n",
              "      <td>NaN</td>\n",
              "      <td>NaN</td>\n",
              "      <td>NaN</td>\n",
              "      <td>NaN</td>\n",
              "      <td>NaN</td>\n",
              "      <td>NaN</td>\n",
              "      <td>NaN</td>\n",
              "      <td>NaN</td>\n",
              "    </tr>\n",
              "  </tbody>\n",
              "</table>\n",
              "<p>605852 rows × 154 columns</p>\n",
              "</div>"
            ],
            "text/plain": [
              "        DT_NOTIFIC  SEM_NOT  DT_SIN_PRI  ...  RES_IGG RES_IGM RES_IGA\n",
              "0       05/01/2021        1  04/01/2021  ...      NaN     NaN     NaN\n",
              "1       14/04/2021       15  12/04/2021  ...      NaN     NaN     NaN\n",
              "2       04/01/2021        1  03/01/2021  ...      2.0     2.0     NaN\n",
              "3       05/01/2021        1  05/01/2021  ...      NaN     NaN     NaN\n",
              "4       06/01/2021        1  04/01/2021  ...      NaN     NaN     NaN\n",
              "...            ...      ...         ...  ...      ...     ...     ...\n",
              "605847  17/04/2021       15  03/04/2021  ...      NaN     NaN     NaN\n",
              "605848  04/04/2021       14  01/04/2021  ...      NaN     NaN     NaN\n",
              "605849  16/04/2021       15  14/04/2021  ...      NaN     NaN     NaN\n",
              "605850  17/04/2021       15  05/04/2021  ...      NaN     NaN     NaN\n",
              "605851  17/04/2021       15  10/04/2021  ...      NaN     NaN     NaN\n",
              "\n",
              "[605852 rows x 154 columns]"
            ]
          },
          "metadata": {
            "tags": []
          },
          "execution_count": 93
        }
      ]
    },
    {
      "cell_type": "markdown",
      "metadata": {
        "id": "y-40h8NWAhcJ"
      },
      "source": [
        "Evolução dos Casos identificados por SARG"
      ]
    },
    {
      "cell_type": "code",
      "metadata": {
        "colab": {
          "base_uri": "https://localhost:8080/"
        },
        "id": "Bq_j504Zs_Qc",
        "outputId": "e64a2958-66af-4767-bf1f-518501d3fa4c"
      },
      "source": [
        "# Verifica se tem NaN na target \"EVOLUCAO\"\n",
        "hasNan = df_n_sarg_2021['EVOLUCAO'].isnull().values.any()\n",
        "print(hasNan)"
      ],
      "execution_count": null,
      "outputs": [
        {
          "output_type": "stream",
          "text": [
            "False\n"
          ],
          "name": "stdout"
        }
      ]
    },
    {
      "cell_type": "code",
      "metadata": {
        "colab": {
          "base_uri": "https://localhost:8080/"
        },
        "id": "1M-KiIcys_Ql",
        "outputId": "49dced36-8b3c-4c43-a8e0-b61f06fee4ad"
      },
      "source": [
        "# Verifica se tem NaN na target \"CLASSI_FIN\"\n",
        "hasNan = df_n_sarg_2021['CLASSI_FIN'].isnull().values.any()\n",
        "print(hasNan)"
      ],
      "execution_count": null,
      "outputs": [
        {
          "output_type": "stream",
          "text": [
            "False\n"
          ],
          "name": "stdout"
        }
      ]
    },
    {
      "cell_type": "markdown",
      "metadata": {
        "id": "v7dglUuDyIVV"
      },
      "source": [
        "Soma do óbitos por SRAG no ano de 2021, incluindo COVID-19"
      ]
    },
    {
      "cell_type": "code",
      "metadata": {
        "colab": {
          "base_uri": "https://localhost:8080/"
        },
        "id": "GmOYga3M4KeL",
        "outputId": "56012beb-cfa1-4bf8-f68d-c7cabb052ec8"
      },
      "source": [
        "df_n_sarg_2021.groupby('EVOLUCAO').size().sort_values()"
      ],
      "execution_count": null,
      "outputs": [
        {
          "output_type": "execute_result",
          "data": {
            "text/plain": [
              "EVOLUCAO\n",
              "Óbito por outras causas      4906\n",
              "Óbito                      150248\n",
              "Ignorado                   220501\n",
              "Cura                       230198\n",
              "dtype: int64"
            ]
          },
          "metadata": {
            "tags": []
          },
          "execution_count": 96
        }
      ]
    },
    {
      "cell_type": "code",
      "metadata": {
        "colab": {
          "base_uri": "https://localhost:8080/",
          "height": 279
        },
        "id": "QMSEVMmVt2we",
        "outputId": "023ed14e-bc51-4383-b5a6-0745bdf277d4"
      },
      "source": [
        "df_n_sarg_2021.groupby('EVOLUCAO').size().sort_values().plot(kind='barh')"
      ],
      "execution_count": null,
      "outputs": [
        {
          "output_type": "execute_result",
          "data": {
            "text/plain": [
              "<matplotlib.axes._subplots.AxesSubplot at 0x7fbb29a3aa90>"
            ]
          },
          "metadata": {
            "tags": []
          },
          "execution_count": 97
        },
        {
          "output_type": "display_data",
          "data": {
            "image/png": "[encoded data removed]",
            "text/plain": [
              "<Figure size 432x288 with 1 Axes>"
            ]
          },
          "metadata": {
            "tags": [],
            "needs_background": "light"
          }
        }
      ]
    },
    {
      "cell_type": "markdown",
      "metadata": {
        "id": "w4UuFPbLzByn"
      },
      "source": [
        "Todos os óbitos por SARG em 2021"
      ]
    },
    {
      "cell_type": "code",
      "metadata": {
        "colab": {
          "base_uri": "https://localhost:8080/"
        },
        "id": "D_bXxpm3ndll",
        "outputId": "a91fb7a5-1638-4731-8320-abb963610682"
      },
      "source": [
        "df_n_obito_sarg_2021 = df_n_sarg_2021.query('EVOLUCAO == \"Óbito\"')\n",
        "n_obito_sarg_2021 = df_n_obito_sarg_2021.query('EVOLUCAO == \"Óbito\"')['EVOLUCAO'].value_counts()\n",
        "print(\"SARG EM 2021\", n_obito_sarg_2021)\n"
      ],
      "execution_count": null,
      "outputs": [
        {
          "output_type": "stream",
          "text": [
            "SARG EM 2021 Óbito    150248\n",
            "Name: EVOLUCAO, dtype: int64\n"
          ],
          "name": "stdout"
        }
      ]
    },
    {
      "cell_type": "markdown",
      "metadata": {
        "id": "Q_hMCeH8zqRy"
      },
      "source": [
        "Óbitos por SRAG, sem confirmação de covid-19 em 2021:"
      ]
    },
    {
      "cell_type": "code",
      "metadata": {
        "colab": {
          "base_uri": "https://localhost:8080/"
        },
        "id": "CxZmJzIOzqRz",
        "outputId": "eca8ea7b-67b7-4128-8213-e02742de6258"
      },
      "source": [
        "n_obito_sarg_sem_covid_2021 = n_obito_sarg_2021 - n_obito_covid_2021\n",
        "print(\"Óbitos por SRAG, sem confirmação de covid-19 em 2021:\", n_obito_sarg_sem_covid_2021)"
      ],
      "execution_count": null,
      "outputs": [
        {
          "output_type": "stream",
          "text": [
            "Óbitos por SRAG, sem confirmação de covid-19 em 2021: Óbito    16034\n",
            "Name: EVOLUCAO, dtype: int64\n"
          ],
          "name": "stdout"
        }
      ]
    },
    {
      "cell_type": "markdown",
      "metadata": {
        "id": "_iloLKZ4zqRx"
      },
      "source": [
        "Óbitos por SARG com confirmação por COVID-19 em 2021"
      ]
    },
    {
      "cell_type": "code",
      "metadata": {
        "colab": {
          "base_uri": "https://localhost:8080/"
        },
        "id": "ylJITNxA1QF0",
        "outputId": "8b79133f-6966-46a5-9901-50786c624e1c"
      },
      "source": [
        "n_obito_covid_2021 = df_n_obito_sarg_2021.query('CLASSI_FIN == \"SRAG por COVID-19\"')['CLASSI_FIN'].count()\n",
        "print(\"SARG com confirmação por COVID-19 em 2021:\", n_obito_covid_2021)"
      ],
      "execution_count": null,
      "outputs": [
        {
          "output_type": "stream",
          "text": [
            "SARG com confirmação por COVID-19 em 2021: 134214\n"
          ],
          "name": "stdout"
        }
      ]
    },
    {
      "cell_type": "markdown",
      "metadata": {
        "id": "FKIJksKRgXuQ"
      },
      "source": [
        "Cálcula Sub-notificação COVID-19 ano 2021"
      ]
    },
    {
      "cell_type": "code",
      "metadata": {
        "colab": {
          "base_uri": "https://localhost:8080/"
        },
        "id": "3Fqqc0oyAYsi",
        "outputId": "e9fe2028-edf0-4711-fcc6-464f865cab06"
      },
      "source": [
        "calculaSubnotificacao(n_obito_covid_2021)"
      ],
      "execution_count": null,
      "outputs": [
        {
          "output_type": "execute_result",
          "data": {
            "text/plain": [
              "180972.75271898584"
            ]
          },
          "metadata": {
            "tags": []
          },
          "execution_count": 188
        }
      ]
    },
    {
      "cell_type": "markdown",
      "metadata": {
        "id": "PqzN9nYcyz6n"
      },
      "source": [
        "### Cálculo da subnotificação de óbitos por covid-19\n",
        "\n",
        "Exemplificando, com os valores divulgados pelo OpenDataSUS:\n",
        "* 2019 06/01/2019 até 29/10/2019.\n",
        "* 2020 dia 29/10/2020.\n",
        "* 2021 dia 10/04/2021. \n",
        "\n",
        "Obtém-se:\n",
        "\n",
        "* Óbitos por SRAG em 2019: 5.370\n",
        "* Óbitos por SRAG em 2020: 301.804\n",
        "* Óbitos por SRAG, com confirmação de covid-19, em 2020: 219.843\n",
        "* Óbitos por SRAG, sem confirmação de covid-19 em 2020: 81.961\n",
        "\n",
        "\n",
        "Tomando como base os 5.370 óbitos por SRAG em 2019, tem-se, em 2020, 76.591 óbitos a mais que 2019 por SRAG que não foram confirmados por covid-19. Portanto, esses óbitos poderão ser sim óbitos por covid-19 que não foram notificados devidamente.\n"
      ]
    }
  ]
}
